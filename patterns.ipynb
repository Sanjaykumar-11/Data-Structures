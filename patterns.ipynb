{
 "cells": [
  {
   "cell_type": "markdown",
   "metadata": {},
   "source": [
    "<h3> Diagonal pattern - Zoho</h3>"
   ]
  },
  {
   "cell_type": "code",
   "execution_count": 18,
   "metadata": {},
   "outputs": [
    {
     "name": "stdout",
     "output_type": "stream",
     "text": [
      "c y\n",
      " r\n",
      "c y\n"
     ]
    }
   ],
   "source": [
    "string = input()\n",
    "start = 0\n",
    "end = len(string)-1\n",
    "num = len(string)\n",
    "i = 0\n",
    "while start<=end:\n",
    "    print(\" \"*i, end=\"\")\n",
    "    num -= 2\n",
    "    if start!=end:\n",
    "        print(string[start], end=\"\")\n",
    "    print(\" \"*num, end=\"\")\n",
    "    print(string[end], end=\"\")\n",
    "    start+=1\n",
    "    end-=1\n",
    "    i += 1\n",
    "    print()\n",
    "j = i-2\n",
    "start = len(string)//2-1\n",
    "end = start+2\n",
    "while end!=len(string):\n",
    "    print(\" \"*j, end=\"\")\n",
    "    num += 2\n",
    "    print(string[start], end=\"\")\n",
    "    print(\" \"*num, end=\"\")\n",
    "    print(string[end], end=\"\")\n",
    "    j-=1\n",
    "    start-=1\n",
    "    end+=1\n",
    "    print()"
   ]
  },
  {
   "cell_type": "markdown",
   "metadata": {},
   "source": [
    "<h3>String Reverse the words - Zoho</h3>"
   ]
  },
  {
   "cell_type": "code",
   "execution_count": 19,
   "metadata": {},
   "outputs": [
    {
     "name": "stdout",
     "output_type": "stream",
     "text": [
      "Friday is Today\n"
     ]
    }
   ],
   "source": [
    "print(\" \".join(list(input().split())[::-1]))"
   ]
  },
  {
   "cell_type": "markdown",
   "metadata": {},
   "source": [
    "<h3>Minimum distance between Words - Amazon</h3>"
   ]
  },
  {
   "cell_type": "code",
   "execution_count": 27,
   "metadata": {},
   "outputs": [
    {
     "name": "stdout",
     "output_type": "stream",
     "text": [
      "1\n"
     ]
    }
   ],
   "source": [
    "import sys\n",
    "S = list(input().strip().split())\n",
    "word_1 = input().strip()\n",
    "word_2 = input().strip()\n",
    "index_1 = []\n",
    "index_2 = []\n",
    "\n",
    "for index, word in enumerate(S):\n",
    "    if word==word_1:\n",
    "        index_1.append(index)\n",
    "    if word==word_2:\n",
    "        index_2.append(index)\n",
    "\n",
    "ans = sys.maxsize\n",
    "\n",
    "for i in index_1:\n",
    "    for j in index_2:\n",
    "        temp = abs(i-j)\n",
    "        if temp<ans and temp!=0:\n",
    "            ans = temp\n",
    "\n",
    "print(ans)"
   ]
  },
  {
   "cell_type": "markdown",
   "metadata": {},
   "source": [
    "<h3>Pronic Integer in N - Infosys</h3>"
   ]
  },
  {
   "cell_type": "code",
   "execution_count": 28,
   "metadata": {},
   "outputs": [
    {
     "name": "stdout",
     "output_type": "stream",
     "text": [
      "930 30 0 42 2 6 "
     ]
    }
   ],
   "source": [
    "import math\n",
    "def isPronic(n):\n",
    "    val = int(n)\n",
    "    if val%2==0:\n",
    "        square_root = int(math.sqrt(val))\n",
    "        if square_root*(square_root+1)==val:\n",
    "            return True\n",
    "        else:\n",
    "            return False\n",
    "    else:\n",
    "        return False\n",
    "\n",
    "n = input().strip()\n",
    "left = 0\n",
    "right = 0\n",
    "while left<len(n):\n",
    "    right = left\n",
    "    while right<len(n):\n",
    "        if n[left]==\"0\" and int(n[left:right+1]) != 0:\n",
    "            break\n",
    "        if isPronic(n[left:right+1]):\n",
    "            print(int(n[left:right+1]), end=\" \")\n",
    "        right += 1\n",
    "    left += 1"
   ]
  },
  {
   "cell_type": "code",
   "execution_count": 73,
   "metadata": {},
   "outputs": [
    {
     "name": "stdout",
     "output_type": "stream",
     "text": [
      "['Count', 'the', 'articles', 'which', 'are', 'a', 'an', 'and', 'the']\n",
      "4\n"
     ]
    }
   ],
   "source": [
    "import re\n",
    "string = input()\n",
    "string = string.replace(\",\", \"\")\n",
    "string = string.replace(\";\", \"\")\n",
    "string = string.replace(\".\", \"\")\n",
    "\n",
    "string = string.split()\n",
    "article = [\"a\", \"an\", \"the\"]\n",
    "count = 0\n",
    "print(string)\n",
    "for i in string:\n",
    "    if i in article:\n",
    "        count += 1\n",
    "print(count)"
   ]
  },
  {
   "cell_type": "code",
   "execution_count": 76,
   "metadata": {},
   "outputs": [
    {
     "name": "stdout",
     "output_type": "stream",
     "text": [
      "eve\n",
      "ere\n",
      "2\n"
     ]
    }
   ],
   "source": [
    "def isPalindrome(string):\n",
    "    if string==string[::-1]:\n",
    "        return True\n",
    "    return False\n",
    "\n",
    "string = input()\n",
    "left = 0\n",
    "count = 0\n",
    "\n",
    "while left<len(string):\n",
    "    right = left+1\n",
    "    while right<len(string):\n",
    "        if string[left]==string[right]:\n",
    "            if isPalindrome(string[left:right+1]):\n",
    "                print(string[left:right+1])\n",
    "                count += 1\n",
    "        right += 1\n",
    "    left += 1\n",
    "    \n",
    "print(count)"
   ]
  },
  {
   "cell_type": "markdown",
   "metadata": {},
   "source": []
  },
  {
   "cell_type": "code",
   "execution_count": 85,
   "metadata": {},
   "outputs": [
    {
     "name": "stdout",
     "output_type": "stream",
     "text": [
      "lionroaredandthebirdsflew\n",
      "[['l', 'o', 'a', 'e', 's'], ['i', 'a', 'n', 'b', 'f'], ['o', 'r', 'd', 'i', 'l'], ['n', 'e', 't', 'r', 'e'], ['r', 'd', 'h', 'd', 'w']]\n",
      "[['l', 'i', 'o', 'n', 'r'], ['o', 'a', 'r', 'e', 'd'], ['a', 'n', 'd', 't', 'h'], ['e', 'b', 'i', 'r', 'd'], ['s', 'f', 'l', 'e', 'w']]\n"
     ]
    }
   ],
   "source": [
    "string = input()\n",
    "C = int(input())\n",
    "matrix = []\n",
    "R = len(string)//C\n",
    "temp = 0\n",
    "for i in range(R):\n",
    "    l= []\n",
    "    for j in range(C):\n",
    "        l.append(string[temp])\n",
    "        temp += 1\n",
    "    if i%2==0:\n",
    "        matrix.append(l)\n",
    "    else:\n",
    "        matrix.append(l[::-1])\n",
    "        \n",
    "transposed = [['0' for i in range(R)] for j in range(C)]\n",
    "for i in range(R):\n",
    "    for j in range(C):\n",
    "        transposed[j][i] = matrix[i][j]\n",
    "string = \"\"\n",
    "for i in transposed:\n",
    "    string += \"\".join(i)\n",
    "print(string)\n",
    "print(matrix)\n",
    "print(transposed)"
   ]
  },
  {
   "cell_type": "markdown",
   "metadata": {},
   "source": [
    "<h3>Maximum count 1's</h3>"
   ]
  },
  {
   "cell_type": "code",
   "execution_count": 87,
   "metadata": {},
   "outputs": [
    {
     "name": "stdout",
     "output_type": "stream",
     "text": [
      "5\n"
     ]
    }
   ],
   "source": [
    "n = int(input())\n",
    "l = list(map(int, input().split()))\n",
    "diff = 0\n",
    "x = 0\n",
    "y = 0\n",
    "for start in range(n):\n",
    "    for end in range(start,n-1): \n",
    "        #print(start, end, sep=\" - \")\n",
    "        temp = l[start:end+1].count(0) - l[start:end+1].count(1)\n",
    "        # print(temp)\n",
    "        if temp>diff:\n",
    "            diff = temp\n",
    "            x = start\n",
    "            y = end\n",
    "\n",
    "        else:\n",
    "            continue\n",
    "#print(x, y, sep=\" - \")\n",
    "for i in range(x, y+1):\n",
    "    l[i] = 0 if l[i]==1 else 1\n",
    "print(l.count(1))"
   ]
  },
  {
   "cell_type": "code",
   "execution_count": 95,
   "metadata": {},
   "outputs": [
    {
     "name": "stdout",
     "output_type": "stream",
     "text": [
      "120 60 40 30 24 "
     ]
    }
   ],
   "source": [
    "l = list(map(int, input().split()))\n",
    "ans = [1 for i in range(len(l))]\n",
    "count = 0\n",
    "for i in range(len(l)):\n",
    "    temp = [i for i in l]\n",
    "    temp.pop(i)\n",
    "    for num in temp:\n",
    "        ans[count] *= num\n",
    "    count += 1\n",
    "print(*ans, end=\" \")"
   ]
  },
  {
   "cell_type": "code",
   "execution_count": null,
   "metadata": {},
   "outputs": [],
   "source": []
  }
 ],
 "metadata": {
  "interpreter": {
   "hash": "e7370f93d1d0cde622a1f8e1c04877d8463912d04d973331ad4851f04de6915a"
  },
  "kernelspec": {
   "display_name": "Python 3.8.10 64-bit",
   "language": "python",
   "name": "python3"
  },
  "language_info": {
   "codemirror_mode": {
    "name": "ipython",
    "version": 3
   },
   "file_extension": ".py",
   "mimetype": "text/x-python",
   "name": "python",
   "nbconvert_exporter": "python",
   "pygments_lexer": "ipython3",
   "version": "3.8.10"
  },
  "orig_nbformat": 4
 },
 "nbformat": 4,
 "nbformat_minor": 2
}
