{
 "cells": [
  {
   "cell_type": "markdown",
   "metadata": {},
   "source": [
    "<h3>ROBOT - STAIR CLIMBING<h3>\n",
    "<h5>Dynamic programming</h5>"
   ]
  },
  {
   "cell_type": "code",
   "execution_count": 3,
   "metadata": {},
   "outputs": [
    {
     "name": "stdout",
     "output_type": "stream",
     "text": [
      "[1, 0, 1, 1, 1, 2]\n",
      "2\n"
     ]
    }
   ],
   "source": [
    "#N->Stairs to be climbed\n",
    "#S->Number of leaps\n",
    "\n",
    "N, S = map(int, input().split(' '))\n",
    "leaps = list(map(int, input().split(' ')))\n",
    "ways = []\n",
    "for i in range(N+1):\n",
    "    ways.append(0)\n",
    "ways[0] = 1\n",
    "for i in range(1, N+1):\n",
    "    for j in range(0, len(leaps)):\n",
    "        if(i>=leaps[j]):\n",
    "            ways[i] += ways[i-leaps[j]];\n",
    "print(ways)\n",
    "print(ways[N])\n",
    "\n",
    "# sample input\n",
    "# 5 2\n",
    "# 2 3\n",
    "\n",
    "# sample output\n",
    "# 2"
   ]
  },
  {
   "cell_type": "markdown",
   "metadata": {},
   "source": [
    "<h3>ROBOT - STAIR CLIMBING WITH DAMAGED STAIR<h3>\n",
    "<h5>Dynamic programming</h5>"
   ]
  },
  {
   "cell_type": "code",
   "execution_count": 4,
   "metadata": {},
   "outputs": [
    {
     "name": "stdout",
     "output_type": "stream",
     "text": [
      "1\n"
     ]
    }
   ],
   "source": [
    "N, S, damage_count = map(int, input().split(' '))\n",
    "leaps = list(map(int, input().split(' ')))\n",
    "T = list(map(int, input().split(' '))) #Damaged stairs\n",
    "ways = []\n",
    "for i in range(N+1):\n",
    "    ways.append(0)\n",
    "ways[0] = 1\n",
    "for i in range(1, N+1):\n",
    "    if(i in T):\n",
    "        ways[i] = 0 #ignoring damaged stairs\n",
    "        continue\n",
    "    for j in range(len(leaps)):\n",
    "            ways[i] += ways[i-leaps[j]]\n",
    "print(ways[N])\n",
    "\n",
    "#sample input\n",
    "# 5 2 1\n",
    "# 2 3\n",
    "# 2\n",
    "\n",
    "#sample output\n",
    "# 1"
   ]
  },
  {
   "cell_type": "markdown",
   "metadata": {},
   "source": [
    "<h3>ROBOT - STAIR CLIMBING WITH SLIPERY STAIR<h3>\n",
    "<h5>Dynamic programming</h5>"
   ]
  },
  {
   "cell_type": "code",
   "execution_count": 6,
   "metadata": {},
   "outputs": [
    {
     "name": "stdout",
     "output_type": "stream",
     "text": [
      "2\n"
     ]
    }
   ],
   "source": [
    "N, S, slipery_count = map(int, input().split(' '))\n",
    "leaps = list(map(int, input().split(' ')))\n",
    "T = list(map(int, input().split(' '))) #slipery steps\n",
    "ways = []\n",
    "for i in range(N+1):\n",
    "    ways.append(0)\n",
    "ways[0] = 1 # possible way for ground is always 1\n",
    "for i in range(1, N+1):\n",
    "    for j in range(len(leaps)):\n",
    "        ways[i] += ways[i-leaps[j]] #increment anyway, also slipery steps\n",
    "    if(i in T):# if i is in slipery steps\n",
    "        last_non_slippery = i-1; # jumping to previous step\n",
    "        while(last_non_slippery in T and last_non_slippery>0): \n",
    "            #checking whether the previous step also slipery or not if yes decrement by 1\n",
    "            last_non_slippery -= 1\n",
    "        if last_non_slippery>0:\n",
    "            ways[last_non_slippery] += ways[i] \n",
    "        ways[i]=0\n",
    "\n",
    "print(ways[N])\n",
    "\n",
    "#sample input\n",
    "# 5 2 1\n",
    "# 2 3\n",
    "# 2\n",
    "\n",
    "#sample output\n",
    "# 2"
   ]
  },
  {
   "cell_type": "markdown",
   "metadata": {},
   "source": [
    "<h3>NEXT GREATER ELEMENT - STACK<h3>"
   ]
  },
  {
   "cell_type": "code",
   "execution_count": 4,
   "metadata": {},
   "outputs": [
    {
     "name": "stdout",
     "output_type": "stream",
     "text": [
      "8 9 9 9 6 "
     ]
    }
   ],
   "source": [
    "from collections import deque #implementing stack using deque\n",
    "n = int(input())\n",
    "l = list(map(int, input().split()))\n",
    "stack = deque()\n",
    "for i in range(n-1, -1, -1): #traverse the array from last \n",
    "    if(len(stack)==0):\n",
    "        stack.append(l[i]) #if stack is empty push the element\n",
    "    else:\n",
    "        if(stack[len(stack)-1] > l[i]): #if peek value is greater than the element\n",
    "            nextgreater = stack[len(stack)-1]; #next grater is peek of the stack\n",
    "            stack.append(l[i])\n",
    "            l[i] = nextgreater\n",
    "        else:\n",
    "            while(len(stack) != 0 and  stack[len(stack)-1] <= l[i]): \n",
    "                #pop the element until peek is grater than the given element\n",
    "                del stack[(len(stack)-1)]\n",
    "            if(len(stack)==0):\n",
    "                #if stack became empty push the element and nextgreater \n",
    "                #element is that element itself\n",
    "                stack.append(l[i])\n",
    "            else:\n",
    "                #if stack is not empty nexgreater element is peek of the stack\n",
    "                nextgreater = stack[len(stack)-1];\n",
    "                stack.append(l[i])\n",
    "                l[i] = nextgreater\n",
    "for i in l:\n",
    "    print(i, end=\" \")\n",
    "\n",
    "#sample input\n",
    "# 5\n",
    "# 7 8 9 4 2\n",
    "\n",
    "#sample output\n",
    "# 8 9 9 4 2"
   ]
  },
  {
   "cell_type": "markdown",
   "metadata": {},
   "source": [
    "<h3>REMOVE ADJACENT EQUAL VALUES - STACK<h3>"
   ]
  },
  {
   "cell_type": "code",
   "execution_count": 5,
   "metadata": {},
   "outputs": [
    {
     "name": "stdout",
     "output_type": "stream",
     "text": [
      "20 50 90 "
     ]
    }
   ],
   "source": [
    "# The program must remove the adjacent values in the array if they are equal. \n",
    "# The program must repeat the process if there are no more equal adjacent values \n",
    "# in the array Finally, the program must print the integeres in the array as the output, \n",
    "# if there is no integer in the array the program must print -1 as the output.\n",
    "\n",
    "from collections import deque\n",
    "n = int(input())\n",
    "l = list(map(int, input().split()))\n",
    "stack = deque()\n",
    "for i in range(len(l)):\n",
    "    if(len(stack)==0): #if stack is empty push the element\n",
    "        stack.append(l[i])\n",
    "    else:\n",
    "        if(stack[(len(stack)-1)]==l[i]): #check peek and element is equal\n",
    "            del stack[len(stack)-1] #  if equal pop the element from the stack\n",
    "        else:\n",
    "            stack.append(l[i]) # otherwise push the element\n",
    "if(len(stack)==0):\n",
    "    print(-1) #if stack is empty print -1\n",
    "else:\n",
    "    #otherwise print the stack\n",
    "    for i in stack:\n",
    "        print(i, end=\" \")\n",
    "\n",
    "#sample input\n",
    "# 9\n",
    "# 20 15 10 30 30 10 15 50 90\n",
    "\n",
    "#sample output\n",
    "# 20 50 90"
   ]
  },
  {
   "cell_type": "markdown",
   "metadata": {},
   "source": [
    "<h3>LOGINGEST COMMON SIGNAL - STRING</h3>\n",
    "<h5>Dynamic programming</h5>"
   ]
  },
  {
   "cell_type": "code",
   "execution_count": 6,
   "metadata": {},
   "outputs": [
    {
     "name": "stdout",
     "output_type": "stream",
     "text": [
      "2\n"
     ]
    }
   ],
   "source": [
    "# The prgram must print the length of the common signal emitted by these \n",
    "# two signal systems as the output.\n",
    "\n",
    "\n",
    "s1 = input().strip()\n",
    "s2 = input().strip()\n",
    "matrix = [[0 for i in range(len(s2))] for j in range(len(s1))] #initialize the matrix\n",
    "max = 0\n",
    "for i in range(len(s1)):\n",
    "    for j in range(len(s2)):\n",
    "        if(s1[i]==s2[j]): #if equal assign value as 1\n",
    "            matrix[i][j] = 1\n",
    "        if(i!=0 and j!=0): # if matrix cell is not in first row and first column\n",
    "            matrix[i][j] += matrix[i-1][j-1] # then increment the value form previous diagonal cell\n",
    "        if(matrix[i][j]>max): #parallely assign a max value so that we don't need a seperate loops\n",
    "            max = matrix[i][j]\n",
    "print(max)\n",
    "\n",
    "#sample input\n",
    "# nose\n",
    "# rose\n",
    "\n",
    "#sample output\n",
    "# 2\n",
    "\n",
    "\n",
    "# JAVA CODE FOR THE ABOVE QUESTION\n",
    "\n",
    "# import java.util.*;\n",
    "# public class Hello {\n",
    "#     public static void main(String[] args) {\n",
    "#         Scanner input = new Scanner(System.in);\n",
    "        \n",
    "#         String s1 = input.next();\n",
    "#         String s2 = input.next();\n",
    "        \n",
    "#         int row = s1.length();\n",
    "#         int col = s2.length();\n",
    "        \n",
    "# \t\tint[][] matrix = new int[row][col];\n",
    "\t\t\n",
    "# \t\tint max = 0;\n",
    "\t\t\n",
    "# \t\tfor(int i=0; i<row; i++)\n",
    "# \t\t{\n",
    "# \t\t    for(int j=0; j<col; j++)\n",
    "# \t\t    {\n",
    "# \t\t        if(s1.charAt(i)==s2.charAt(j))\n",
    "# \t\t        {\n",
    "# \t\t            if(i==0 || j==0)\n",
    "# \t\t            {\n",
    "# \t\t                matrix[i][j] = 1;\n",
    "# \t\t            }\n",
    "# \t\t            else\n",
    "# \t\t            {\n",
    "# \t\t                matrix[i][j] = 1 + matrix[i-1][j-1];\n",
    "# \t\t            }\n",
    "# \t\t        }\n",
    "# \t\t        if(matrix[i][j]>max)\n",
    "# \t\t        {\n",
    "# \t\t            max = matrix[i][j];\n",
    "# \t\t        }\n",
    "# \t\t    }\n",
    "# \t\t}\n",
    "# \t\tSystem.out.println(max);\n",
    "# \t}\n",
    "# }"
   ]
  },
  {
   "cell_type": "markdown",
   "metadata": {},
   "source": [
    "<h3>LONGEST SUBARRAY WITH EQUAL NUMBER OF ALPHA AND NUMBERS - STRING</h3>"
   ]
  },
  {
   "cell_type": "code",
   "execution_count": 16,
   "metadata": {},
   "outputs": [
    {
     "name": "stdout",
     "output_type": "stream",
     "text": [
      "6\n"
     ]
    }
   ],
   "source": [
    "s = input()\n",
    "pos = 0\n",
    "count = 0\n",
    "maxlen = 0;\n",
    "d = {} #Key = count, Value = position \n",
    "d[count] = pos #insert 0:0 at starting stage\n",
    "for i in s: #traverse the string char by char\n",
    "    pos += 1 #increment position by one\n",
    "    if(i.isalpha()):\n",
    "        count += 1 # if character is in alphabet increment count by 1\n",
    "    else:\n",
    "        count -= 1 #otherwise decrement the count if any (like numers etc.)\n",
    "    if(count in d.keys()): #check whether current count is key set\n",
    "        current = pos - d[count] #if yes, find the current value by subtracting position and d[count]\n",
    "        if(current>maxlen): #if current value is greater than maximum length\n",
    "            maxlen=current # assign maximum length to current value\n",
    "    else:\n",
    "        d[count] = pos # if count is not present in the character list, add key value pair\n",
    "print(maxlen)\n",
    "\n",
    "#sample input\n",
    "# san123kumar\n",
    "#sample output\n",
    "# 6\n",
    "#***\n",
    "\n",
    "# JAVA CODE\n",
    "\n",
    "# import java.util.*;\n",
    "# public class Hello {\n",
    "\n",
    "#     public static void main(String[] args) {\n",
    "#         Scanner input = new Scanner(System.in);\n",
    "#         String s = input.nextLine();\n",
    "#         int pos = 0;\n",
    "#         int count = 0;\n",
    "#         int maxlen = 0;\n",
    "        \n",
    "#         Map<Integer, Integer> map = new HashMap<>();\n",
    "#         map.put(pos, count);\n",
    "        \n",
    "#         for(char ch: s.toCharArray())\n",
    "#         {\n",
    "#             pos++;\n",
    "#             if(Character.isAlphabetic(ch))\n",
    "#             {\n",
    "#                 count++;\n",
    "#             }\n",
    "#             else\n",
    "#             {\n",
    "#                 count--;\n",
    "#             }\n",
    "#             if(map.containsKey(count))\n",
    "#             {\n",
    "#                 int current = pos-map.get(count);\n",
    "#                 if(current>maxlen)\n",
    "#                 {\n",
    "#                     maxlen = current;\n",
    "#                 }\n",
    "#             }\n",
    "#             else\n",
    "#             {\n",
    "#                 map.put(count, pos);\n",
    "#             }\n",
    "#         }\n",
    "#         System.out.println(maxlen);\n",
    "\n",
    "# \t}\n",
    "# }\n"
   ]
  },
  {
   "cell_type": "markdown",
   "metadata": {},
   "source": [
    "<h3>MATRIX SPIRAL PRINTING</h3>"
   ]
  },
  {
   "cell_type": "code",
   "execution_count": 17,
   "metadata": {},
   "outputs": [
    {
     "name": "stdout",
     "output_type": "stream",
     "text": [
      "1 4 7 8 9 6 3 2 5 "
     ]
    }
   ],
   "source": [
    "#Logic: split the tast into funcitions\n",
    "\n",
    "def printLeftToRight(matrix, row, startcol, endcol): \n",
    "    for i in range(startcol, endcol+1): \n",
    "        print(matrix[row][i], end=\" \")\n",
    "\n",
    "def printRightToLeft(matrix, row, startcol, endcol):\n",
    "    for i in range(startcol, endcol-1, -1):# print the entire row ex\n",
    "        print(matrix[row][i], end=\" \")\n",
    "def printTopToBottom(matrix, col, startrow, endrow):\n",
    "    for i in range(startrow, endrow+1):\n",
    "        print(matrix[i][col], end=\" \")\n",
    "def printBottomToTop(matrix, col, startrow, endrow):\n",
    "    for i in range(startrow, endrow-1, -1):\n",
    "        print(matrix[i][col], end=\" \")\n",
    "\n",
    "R, C = map(int, input().split())\n",
    "\n",
    "matrix = []\n",
    "for i in range(R):\n",
    "    l = list(map(int, input().split()))\n",
    "    matrix.append(l)\n",
    "\n",
    "startrow = 0\n",
    "endrow = R-1\n",
    "startcol = 0\n",
    "endcol = C-1\n",
    "\n",
    "while(startrow<=endrow and startcol<=endcol):\n",
    "    printTopToBottom(matrix, startcol, startrow, endrow) #print the entire col \n",
    "    printLeftToRight(matrix, endrow, startcol+1, endcol) #print the entire row except already printed col\n",
    "    if(startcol != endcol):\n",
    "        printBottomToTop(matrix, endcol, endrow-1, startrow) # print the entire col except already printed row\n",
    "    if(endcol != startcol):\n",
    "        printRightToLeft(matrix, startrow, endcol-1, startcol+1); #print the entire row except already printed row and col\n",
    "    startrow += 1\n",
    "    startcol += 1\n",
    "    endrow -= 1\n",
    "    endcol -= 1\n",
    "\n",
    "#sample input\n",
    "# 3 3\n",
    "# 1 2 3\n",
    "# 4 5 6\n",
    "# 7 8 9\n",
    "\n",
    "#sample output\n",
    "# 1 4 7 8 9 6 3 2 5\n"
   ]
  },
  {
   "cell_type": "markdown",
   "metadata": {},
   "source": [
    "<h3>MATRIX BOARD GAME</h3>"
   ]
  },
  {
   "cell_type": "code",
   "execution_count": null,
   "metadata": {},
   "outputs": [],
   "source": [
    "# A game has a board with an RxC matrix having R rows and C columns.\n",
    "# Matix containing positive integer values as cell values\n",
    "# A player can start from the top-left cell and perform the following two navigations after collectiong the points in that cell\n",
    "# - The player can move to the right cell\n",
    "# - The player can move to the bottom cell\n",
    "# The player cannot comback to the previous row or column. The player navigates until he reaches the \n",
    "# bottom right cell. The program must print the maximum points a player can collect from the given RxC matrix as the output\n",
    "\n",
    "\n",
    "R, C = map(int, input().split())\n",
    "matrix = []\n",
    "for i in range(R):\n",
    "    l = list(map(int, input().split()))\n",
    "    matrix.append(l)\n",
    "\n",
    "max = [[0 for i in range(C)] for j in range(R)]\n",
    "\n",
    "for i in range(C):\n",
    "    if(i==0):\n",
    "        max[0][i] = matrix[0][i]\n",
    "    else:\n",
    "        max[0][i] += matrix[0][i] + max[0][i-1]\n",
    "\n",
    "for i in range(R):\n",
    "    if(i==0):\n",
    "        max[i][0] = matrix[i][0]\n",
    "    else:\n",
    "        max[i][0] += matrix[i][0] + max[i-1][0]\n",
    "  \n",
    "for i in range(1, R):\n",
    "    for j in range(1, C):\n",
    "        max[i][j] += (max[i][j-1]+matrix[i][j]) if max[i][j-1]>max[i-1][j] else (max[i-1][j]+matrix[i][j])\n",
    "\n",
    "\n",
    "print(max[R-1][C-1])\n",
    "\n",
    "# Sample input\n",
    "# 4 5\n",
    "# 4 2 9 6 1\n",
    "# 7 9 6 5 4\n",
    "# 5 7 3 8 8\n",
    "# 7 4 9 9 4\n",
    "\n",
    "# Sample output\n",
    "# 53"
   ]
  }
 ],
 "metadata": {
  "interpreter": {
   "hash": "31f2aee4e71d21fbe5cf8b01ff0e069b9275f58929596ceb00d14d90e3e16cd6"
  },
  "kernelspec": {
   "display_name": "Python 3.8.10 64-bit",
   "language": "python",
   "name": "python3"
  },
  "language_info": {
   "codemirror_mode": {
    "name": "ipython",
    "version": 3
   },
   "file_extension": ".py",
   "mimetype": "text/x-python",
   "name": "python",
   "nbconvert_exporter": "python",
   "pygments_lexer": "ipython3",
   "version": "3.8.10"
  },
  "orig_nbformat": 4
 },
 "nbformat": 4,
 "nbformat_minor": 2
}
