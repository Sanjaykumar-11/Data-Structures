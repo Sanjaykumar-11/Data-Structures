{
 "cells": [
  {
   "cell_type": "markdown",
   "metadata": {},
   "source": [
    "<h3>ROBOT - STAIR CLIMBING<h3>\n",
    "<h5>Dynamic programming</h5>"
   ]
  },
  {
   "cell_type": "code",
   "execution_count": 3,
   "metadata": {},
   "outputs": [
    {
     "name": "stdout",
     "output_type": "stream",
     "text": [
      "[1, 0, 1, 1, 1, 2]\n",
      "2\n"
     ]
    }
   ],
   "source": [
    "#N->Stairs to be climbed\n",
    "#S->Number of leaps\n",
    "\n",
    "N, S = map(int, input().split(' '))\n",
    "leaps = list(map(int, input().split(' ')))\n",
    "ways = []\n",
    "for i in range(N+1):\n",
    "    ways.append(0)\n",
    "ways[0] = 1\n",
    "for i in range(1, N+1):\n",
    "    for j in range(0, len(leaps)):\n",
    "        if(i>=leaps[j]):\n",
    "            ways[i] += ways[i-leaps[j]];\n",
    "print(ways)\n",
    "print(ways[N])\n",
    "\n",
    "# sample input\n",
    "# 5 2\n",
    "# 2 3\n",
    "\n",
    "# sample output\n",
    "# 2"
   ]
  },
  {
   "cell_type": "markdown",
   "metadata": {},
   "source": [
    "<h3>ROBOT - STAIR CLIMBING WITH DAMAGED STAIR<h3>\n",
    "<h5>Dynamic programming</h5>"
   ]
  },
  {
   "cell_type": "code",
   "execution_count": 4,
   "metadata": {},
   "outputs": [
    {
     "name": "stdout",
     "output_type": "stream",
     "text": [
      "1\n"
     ]
    }
   ],
   "source": [
    "N, S, damage_count = map(int, input().split(' '))\n",
    "leaps = list(map(int, input().split(' ')))\n",
    "T = list(map(int, input().split(' '))) #Damaged stairs\n",
    "ways = []\n",
    "for i in range(N+1):\n",
    "    ways.append(0)\n",
    "ways[0] = 1\n",
    "for i in range(1, N+1):\n",
    "    if(i in T):\n",
    "        ways[i] = 0 #ignoring damaged stairs\n",
    "        continue\n",
    "    for j in range(len(leaps)):\n",
    "            ways[i] += ways[i-leaps[j]]\n",
    "print(ways[N])\n",
    "\n",
    "#sample input\n",
    "# 5 2 1\n",
    "# 2 3\n",
    "# 2\n",
    "\n",
    "#sample output\n",
    "# 1"
   ]
  },
  {
   "cell_type": "markdown",
   "metadata": {},
   "source": [
    "<h3>ROBOT - STAIR CLIMBING WITH SLIPERY STAIR<h3>\n",
    "<h5>Dynamic programming</h5>"
   ]
  },
  {
   "cell_type": "code",
   "execution_count": 6,
   "metadata": {},
   "outputs": [
    {
     "name": "stdout",
     "output_type": "stream",
     "text": [
      "2\n"
     ]
    }
   ],
   "source": [
    "N, S, slipery_count = map(int, input().split(' '))\n",
    "leaps = list(map(int, input().split(' ')))\n",
    "T = list(map(int, input().split(' '))) #slipery steps\n",
    "ways = []\n",
    "for i in range(N+1):\n",
    "    ways.append(0)\n",
    "ways[0] = 1 # possible way for ground is always 1\n",
    "for i in range(1, N+1):\n",
    "    for j in range(len(leaps)):\n",
    "        ways[i] += ways[i-leaps[j]] #increment anyway, also slipery steps\n",
    "    if(i in T):# if i is in slipery steps\n",
    "        last_non_slippery = i-1; # jumping to previous step\n",
    "        while(last_non_slippery in T and last_non_slippery>0): \n",
    "            #checking whether the previous step also slipery or not if yes decrement by 1\n",
    "            last_non_slippery -= 1\n",
    "        if last_non_slippery>0:\n",
    "            ways[last_non_slippery] += ways[i] \n",
    "        ways[i]=0\n",
    "\n",
    "print(ways[N])\n",
    "\n",
    "#sample input\n",
    "# 5 2 1\n",
    "# 2 3\n",
    "# 2\n",
    "\n",
    "#sample output\n",
    "# 2"
   ]
  },
  {
   "cell_type": "markdown",
   "metadata": {},
   "source": [
    "<h3>NEXT GREATER ELEMENT - STACK<h3>"
   ]
  },
  {
   "cell_type": "code",
   "execution_count": 4,
   "metadata": {},
   "outputs": [
    {
     "name": "stdout",
     "output_type": "stream",
     "text": [
      "8 9 9 9 6 "
     ]
    }
   ],
   "source": [
    "from collections import deque #implementing stack using deque\n",
    "n = int(input())\n",
    "l = list(map(int, input().split()))\n",
    "stack = deque()\n",
    "for i in range(n-1, -1, -1): #traverse the array from last \n",
    "    if(len(stack)==0):\n",
    "        stack.append(l[i]) #if stack is empty push the element\n",
    "    else:\n",
    "        if(stack[len(stack)-1] > l[i]): #if peek value is greater than the element\n",
    "            nextgreater = stack[len(stack)-1]; #next grater is peek of the stack\n",
    "            stack.append(l[i])\n",
    "            l[i] = nextgreater\n",
    "        else:\n",
    "            while(len(stack) != 0 and  stack[len(stack)-1] <= l[i]): \n",
    "                #pop the element until peek is grater than the given element\n",
    "                del stack[(len(stack)-1)]\n",
    "            if(len(stack)==0):\n",
    "                #if stack became empty push the element and nextgreater \n",
    "                #element is that element itself\n",
    "                stack.append(l[i])\n",
    "            else:\n",
    "                #if stack is not empty nexgreater element is peek of the stack\n",
    "                nextgreater = stack[len(stack)-1];\n",
    "                stack.append(l[i])\n",
    "                l[i] = nextgreater\n",
    "for i in l:\n",
    "    print(i, end=\" \")\n",
    "\n",
    "#sample input\n",
    "# 5\n",
    "# 7 8 9 4 2\n",
    "\n",
    "#sample output\n",
    "# 8 9 9 4 2"
   ]
  },
  {
   "cell_type": "markdown",
   "metadata": {},
   "source": [
    "<h3>REMOVE ADJACENT EQUAL VALUES - STACK<h3>"
   ]
  },
  {
   "cell_type": "code",
   "execution_count": 5,
   "metadata": {},
   "outputs": [
    {
     "name": "stdout",
     "output_type": "stream",
     "text": [
      "20 50 90 "
     ]
    }
   ],
   "source": [
    "# The program must remove the adjacent values in the array if they are equal. \n",
    "# The program must repeat the process if there are no more equal adjacent values \n",
    "# in the array Finally, the program must print the integeres in the array as the output, \n",
    "# if there is no integer in the array the program must print -1 as the output.\n",
    "\n",
    "from collections import deque\n",
    "n = int(input())\n",
    "l = list(map(int, input().split()))\n",
    "stack = deque()\n",
    "for i in range(len(l)):\n",
    "    if(len(stack)==0): #if stack is empty push the element\n",
    "        stack.append(l[i])\n",
    "    else:\n",
    "        if(stack[(len(stack)-1)]==l[i]): #check peek and element is equal\n",
    "            del stack[len(stack)-1] #  if equal pop the element from the stack\n",
    "        else:\n",
    "            stack.append(l[i]) # otherwise push the element\n",
    "if(len(stack)==0):\n",
    "    print(-1) #if stack is empty print -1\n",
    "else:\n",
    "    #otherwise print the stack\n",
    "    for i in stack:\n",
    "        print(i, end=\" \")\n",
    "\n",
    "#sample input\n",
    "# 9\n",
    "# 20 15 10 30 30 10 15 50 90\n",
    "\n",
    "#sample output\n",
    "# 20 50 90"
   ]
  },
  {
   "cell_type": "markdown",
   "metadata": {},
   "source": [
    "<h3>LOGINGEST COMMON SIGNAL - STRING</h3>\n",
    "<h5>Dynamic programming</h5>"
   ]
  },
  {
   "cell_type": "code",
   "execution_count": 6,
   "metadata": {},
   "outputs": [
    {
     "name": "stdout",
     "output_type": "stream",
     "text": [
      "2\n"
     ]
    }
   ],
   "source": [
    "# The prgram must print the length of the common signal emitted by these \n",
    "# two signal systems as the output.\n",
    "\n",
    "\n",
    "s1 = input().strip()\n",
    "s2 = input().strip()\n",
    "matrix = [[0 for i in range(len(s2))] for j in range(len(s1))] #initialize the matrix\n",
    "max = 0\n",
    "for i in range(len(s1)):\n",
    "    for j in range(len(s2)):\n",
    "        if(s1[i]==s2[j]): #if equal assign value as 1\n",
    "            matrix[i][j] = 1\n",
    "        if(i!=0 and j!=0): # if matrix cell is not in first row and first column\n",
    "            matrix[i][j] += matrix[i-1][j-1] # then increment the value form previous diagonal cell\n",
    "        if(matrix[i][j]>max): #parallely assign a max value so that we don't need a seperate loops\n",
    "            max = matrix[i][j]\n",
    "print(max)\n",
    "\n",
    "#sample input\n",
    "# nose\n",
    "# rose\n",
    "\n",
    "#sample output\n",
    "# 2\n",
    "\n",
    "\n",
    "# JAVA CODE FOR THE ABOVE QUESTION\n",
    "\n",
    "# import java.util.*;\n",
    "# public class Hello {\n",
    "#     public static void main(String[] args) {\n",
    "#         Scanner input = new Scanner(System.in);\n",
    "        \n",
    "#         String s1 = input.next();\n",
    "#         String s2 = input.next();\n",
    "        \n",
    "#         int row = s1.length();\n",
    "#         int col = s2.length();\n",
    "        \n",
    "# \t\tint[][] matrix = new int[row][col];\n",
    "\t\t\n",
    "# \t\tint max = 0;\n",
    "\t\t\n",
    "# \t\tfor(int i=0; i<row; i++)\n",
    "# \t\t{\n",
    "# \t\t    for(int j=0; j<col; j++)\n",
    "# \t\t    {\n",
    "# \t\t        if(s1.charAt(i)==s2.charAt(j))\n",
    "# \t\t        {\n",
    "# \t\t            if(i==0 || j==0)\n",
    "# \t\t            {\n",
    "# \t\t                matrix[i][j] = 1;\n",
    "# \t\t            }\n",
    "# \t\t            else\n",
    "# \t\t            {\n",
    "# \t\t                matrix[i][j] = 1 + matrix[i-1][j-1];\n",
    "# \t\t            }\n",
    "# \t\t        }\n",
    "# \t\t        if(matrix[i][j]>max)\n",
    "# \t\t        {\n",
    "# \t\t            max = matrix[i][j];\n",
    "# \t\t        }\n",
    "# \t\t    }\n",
    "# \t\t}\n",
    "# \t\tSystem.out.println(max);\n",
    "# \t}\n",
    "# }"
   ]
  },
  {
   "cell_type": "markdown",
   "metadata": {},
   "source": [
    "<h3>LONGEST SUBARRAY WITH EQUAL NUMBER OF ALPHA AND NUMBERS - STRING</h3>"
   ]
  },
  {
   "cell_type": "code",
   "execution_count": 16,
   "metadata": {},
   "outputs": [
    {
     "name": "stdout",
     "output_type": "stream",
     "text": [
      "6\n"
     ]
    }
   ],
   "source": [
    "s = input()\n",
    "pos = 0\n",
    "count = 0\n",
    "maxlen = 0;\n",
    "d = {} #Key = count, Value = position \n",
    "d[count] = pos #insert 0:0 at starting stage\n",
    "for i in s: #traverse the string char by char\n",
    "    pos += 1 #increment position by one\n",
    "    if(i.isalpha()):\n",
    "        count += 1 # if character is in alphabet increment count by 1\n",
    "    else:\n",
    "        count -= 1 #otherwise decrement the count if any (like numers etc.)\n",
    "    if(count in d.keys()): #check whether current count is key set\n",
    "        current = pos - d[count] #if yes, find the current value by subtracting position and d[count]\n",
    "        if(current>maxlen): #if current value is greater than maximum length\n",
    "            maxlen=current # assign maximum length to current value\n",
    "    else:\n",
    "        d[count] = pos # if count is not present in the character list, add key value pair\n",
    "print(maxlen)\n",
    "\n",
    "#sample input\n",
    "# san123kumar\n",
    "#sample output\n",
    "# 6\n",
    "#***\n",
    "\n",
    "# JAVA CODE\n",
    "\n",
    "# import java.util.*;\n",
    "# public class Hello {\n",
    "\n",
    "#     public static void main(String[] args) {\n",
    "#         Scanner input = new Scanner(System.in);\n",
    "#         String s = input.nextLine();\n",
    "#         int pos = 0;\n",
    "#         int count = 0;\n",
    "#         int maxlen = 0;\n",
    "        \n",
    "#         Map<Integer, Integer> map = new HashMap<>();\n",
    "#         map.put(pos, count);\n",
    "        \n",
    "#         for(char ch: s.toCharArray())\n",
    "#         {\n",
    "#             pos++;\n",
    "#             if(Character.isAlphabetic(ch))\n",
    "#             {\n",
    "#                 count++;\n",
    "#             }\n",
    "#             else\n",
    "#             {\n",
    "#                 count--;\n",
    "#             }\n",
    "#             if(map.containsKey(count))\n",
    "#             {\n",
    "#                 int current = pos-map.get(count);\n",
    "#                 if(current>maxlen)\n",
    "#                 {\n",
    "#                     maxlen = current;\n",
    "#                 }\n",
    "#             }\n",
    "#             else\n",
    "#             {\n",
    "#                 map.put(count, pos);\n",
    "#             }\n",
    "#         }\n",
    "#         System.out.println(maxlen);\n",
    "\n",
    "# \t}\n",
    "# }\n"
   ]
  },
  {
   "cell_type": "markdown",
   "metadata": {},
   "source": [
    "<h3>MATRIX SPIRAL PRINTING</h3>"
   ]
  },
  {
   "cell_type": "code",
   "execution_count": 17,
   "metadata": {},
   "outputs": [
    {
     "name": "stdout",
     "output_type": "stream",
     "text": [
      "1 4 7 8 9 6 3 2 5 "
     ]
    }
   ],
   "source": [
    "#Logic: split the tast into funcitions\n",
    "\n",
    "def printLeftToRight(matrix, row, startcol, endcol): \n",
    "    for i in range(startcol, endcol+1): \n",
    "        print(matrix[row][i], end=\" \")\n",
    "\n",
    "def printRightToLeft(matrix, row, startcol, endcol):\n",
    "    for i in range(startcol, endcol-1, -1):# print the entire row ex\n",
    "        print(matrix[row][i], end=\" \")\n",
    "def printTopToBottom(matrix, col, startrow, endrow):\n",
    "    for i in range(startrow, endrow+1):\n",
    "        print(matrix[i][col], end=\" \")\n",
    "def printBottomToTop(matrix, col, startrow, endrow):\n",
    "    for i in range(startrow, endrow-1, -1):\n",
    "        print(matrix[i][col], end=\" \")\n",
    "\n",
    "R, C = map(int, input().split())\n",
    "\n",
    "matrix = []\n",
    "for i in range(R):\n",
    "    l = list(map(int, input().split()))\n",
    "    matrix.append(l)\n",
    "\n",
    "startrow = 0\n",
    "endrow = R-1\n",
    "startcol = 0\n",
    "endcol = C-1\n",
    "\n",
    "while(startrow<=endrow and startcol<=endcol):\n",
    "    printTopToBottom(matrix, startcol, startrow, endrow) #print the entire col \n",
    "    printLeftToRight(matrix, endrow, startcol+1, endcol) #print the entire row except already printed col\n",
    "    if(startcol != endcol):\n",
    "        printBottomToTop(matrix, endcol, endrow-1, startrow) # print the entire col except already printed row\n",
    "    if(endcol != startcol):\n",
    "        printRightToLeft(matrix, startrow, endcol-1, startcol+1); #print the entire row except already printed row and col\n",
    "    startrow += 1\n",
    "    startcol += 1\n",
    "    endrow -= 1\n",
    "    endcol -= 1\n",
    "\n",
    "#sample input\n",
    "# 3 3\n",
    "# 1 2 3\n",
    "# 4 5 6\n",
    "# 7 8 9\n",
    "\n",
    "#sample output\n",
    "# 1 4 7 8 9 6 3 2 5\n"
   ]
  },
  {
   "cell_type": "markdown",
   "metadata": {},
   "source": [
    "<h3>MATRIX BOARD GAME</h3>"
   ]
  },
  {
   "cell_type": "code",
   "execution_count": null,
   "metadata": {},
   "outputs": [],
   "source": [
    "# A game has a board with an RxC matrix having R rows and C columns.\n",
    "# Matix containing positive integer values as cell values\n",
    "# A player can start from the top-left cell and perform the following two navigations after collectiong the points in that cell\n",
    "# - The player can move to the right cell\n",
    "# - The player can move to the bottom cell\n",
    "# The player cannot comback to the previous row or column. The player navigates until he reaches the \n",
    "# bottom right cell. The program must print the maximum points a player can collect from the given RxC matrix as the output\n",
    "\n",
    "\n",
    "R, C = map(int, input().split())\n",
    "matrix = []\n",
    "for i in range(R):\n",
    "    l = list(map(int, input().split()))\n",
    "    matrix.append(l)\n",
    "\n",
    "max = [[0 for i in range(C)] for j in range(R)]\n",
    "\n",
    "for i in range(C):\n",
    "    if(i==0):\n",
    "        max[0][i] = matrix[0][i]\n",
    "    else:\n",
    "        max[0][i] += matrix[0][i] + max[0][i-1]\n",
    "\n",
    "for i in range(R):\n",
    "    if(i==0):\n",
    "        max[i][0] = matrix[i][0]\n",
    "    else:\n",
    "        max[i][0] += matrix[i][0] + max[i-1][0]\n",
    "  \n",
    "for i in range(1, R):\n",
    "    for j in range(1, C):\n",
    "        max[i][j] += (max[i][j-1]+matrix[i][j]) if max[i][j-1]>max[i-1][j] else (max[i-1][j]+matrix[i][j])\n",
    "\n",
    "\n",
    "print(max[R-1][C-1])\n",
    "\n",
    "# Sample input\n",
    "# 4 5\n",
    "# 4 2 9 6 1\n",
    "# 7 9 6 5 4\n",
    "# 5 7 3 8 8\n",
    "# 7 4 9 9 4\n",
    "\n",
    "# Sample output\n",
    "# 53"
   ]
  },
  {
   "cell_type": "markdown",
   "metadata": {},
   "source": [
    "<h3>PRINT THE MAJORIYT ELEMENT IN THE ARRAY</h3>"
   ]
  },
  {
   "cell_type": "code",
   "execution_count": 1,
   "metadata": {},
   "outputs": [
    {
     "name": "stdout",
     "output_type": "stream",
     "text": [
      "5-1\n",
      "8-1\n",
      "5-1\n",
      "6-1\n",
      "5-1\n",
      "5\n"
     ]
    }
   ],
   "source": [
    "n = int(input())\n",
    "l = list(map(int, input().split()))\n",
    "count = 0\n",
    "majority = 0\n",
    "for i in range(len(l)): # traverse the element\n",
    "    if(i==0):\n",
    "        count = 1 # if it is first element of the string, assign count = 1 and majority element as l[i]\n",
    "        majority = l[i]\n",
    "    else: # if element is not a first element\n",
    "        if(l[i]==majority): #if string is equal to majority element increment count by 1\n",
    "            count += 1\n",
    "        else: # if string is not equal to majority element\n",
    "            count -= 1 #decrement by 1\n",
    "            if(count==0): # check whether the current count is 0\n",
    "                majority = l[i] # if current count is 0, change the majority by l[i]\n",
    "                count = 1 #assign count as 1\n",
    "    #print(majority, count, sep=\"-\")\n",
    "c = 0\n",
    "for i in l: #Count the total number of majority element in the string\n",
    "    if(i==majority):\n",
    "        c+=1\n",
    "if(c>n//2): #if coutn is greater than equal to half of the length of string then print majority \n",
    "    print(majority)\n",
    "else: # otherwise print No Majority Element\n",
    "    print(\"No Majority Element\")\n",
    "\n",
    "# Sample input\n",
    "# 5\n",
    "# 5 8 5 7 5\n",
    "\n",
    "# Sample output\n",
    "# 5"
   ]
  },
  {
   "cell_type": "markdown",
   "metadata": {},
   "source": [
    "<h3>SUM OF SUB ARRAY<h3>"
   ]
  },
  {
   "cell_type": "code",
   "execution_count": 2,
   "metadata": {},
   "outputs": [
    {
     "name": "stdout",
     "output_type": "stream",
     "text": [
      "Yes\n"
     ]
    }
   ],
   "source": [
    "#The program must print \"Yes\" if any of the sub arrays is having the sum of their elements as input\n",
    "#Else the program must print \"NO\"\n",
    "\n",
    "N = int(input())\n",
    "arr = list(map(int, input().split()))\n",
    "sum = int(input())\n",
    "currSum = arr[0] #Initialize current sum as first element of the array\n",
    "li = 0 #li -> left index\n",
    "ri = 0 #ri -> right index\n",
    "flag = -1\n",
    "while(li<N and ri<N): #continue the loop until li and ri greater than length of the list\n",
    "    if(sum==currSum): # if required sum is equal to current sum\n",
    "        print(\"Yes\") # then print \"Yes\"\n",
    "        flag = 1 # Assign a flag value equal to 1\n",
    "        break # break the loop\n",
    "    elif (currSum<sum): #if cuurent sum is less than a required sum\n",
    "        ri += 1 # increment the right index by 1\n",
    "        if(ri<N): # if right index is less than the lenght of the array\n",
    "            currSum += arr[ri]; #increment the current sum by ri'th element of the array\n",
    "    else: # if current sum is greater than the required sum\n",
    "        currSum -= arr[li] # decrement the currentsum by li'th elemetn\n",
    "        li += 1 #increment left index by 11\n",
    "if(flag==-1): #if flag is unchanged\n",
    "    print(\"No\") #print \"No\"\n",
    "\n",
    "#Sample input\n",
    "# 5\n",
    "# 5 10 50 20 25\n",
    "# 45\n",
    "\n",
    "#Sample output\n",
    "# Yes"
   ]
  },
  {
   "cell_type": "markdown",
   "metadata": {},
   "source": [
    "<h3> UP AND DOWN PATTERN - TRIANGLE <h3>"
   ]
  },
  {
   "cell_type": "code",
   "execution_count": 16,
   "metadata": {},
   "outputs": [
    {
     "name": "stdout",
     "output_type": "stream",
     "text": [
      "1 \n",
      "2 9 \n",
      "3 8 10 \n",
      "4 7 11 14 \n",
      "5 6 12 13 19 \n"
     ]
    }
   ],
   "source": [
    " \n",
    "n = int(input())\n",
    "down = 0\n",
    "up = 0\n",
    "for i in range(1,n+1):\n",
    "    up = ((i-2)*2)\n",
    "    #print(down)\n",
    "    down = ((n-i)*2)+1\n",
    "    #print(up)\n",
    "    prev = 0\n",
    "    for j in range(i):\n",
    "        if(j==0):\n",
    "            print(i, end=\" \")\n",
    "            prev = i\n",
    "        elif(j%2==1):\n",
    "            prev = prev+down\n",
    "            print(prev, end=\" \")\n",
    "        elif(j%2==0):\n",
    "            prev = prev+up\n",
    "            print(prev, end=\" \")\n",
    "    prev = 0\n",
    "    print()\n",
    "\n",
    "#Sample input\n",
    "# 5\n",
    "\n",
    "#Sample output\n",
    "# 1 \n",
    "# 2 9 \n",
    "# 3 8 10 \n",
    "# 4 7 11 14 \n",
    "# 5 6 12 13 19\n",
    "\n"
   ]
  },
  {
   "cell_type": "markdown",
   "metadata": {},
   "source": [
    "<h3>UP AND DOWN PATTERN - SQUARE</h3>"
   ]
  },
  {
   "cell_type": "code",
   "execution_count": 17,
   "metadata": {},
   "outputs": [
    {
     "name": "stdout",
     "output_type": "stream",
     "text": [
      "1 10 11 20 21 \n",
      "2 9 12 19 22 \n",
      "3 8 13 18 23 \n",
      "4 7 14 17 24 \n",
      "5 6 15 16 25 \n"
     ]
    }
   ],
   "source": [
    "n = int(input())\n",
    "down = 0\n",
    "up = 0\n",
    "for i in range(1,n+1):\n",
    "    up = ((n-i)*2)+1\n",
    "    #print(down)\n",
    "    down = (i*2)-1\n",
    "    #print(up)\n",
    "    prev = 0\n",
    "    for j in range(1,n+1):\n",
    "        if(j==1):\n",
    "            print(i, end=\" \")\n",
    "            prev = i\n",
    "        elif(j%2==1):\n",
    "            prev = prev+down\n",
    "            print(prev, end=\" \")\n",
    "        elif(j%2==0):\n",
    "            prev = prev+up\n",
    "            print(prev, end=\" \")\n",
    "    prev = 0\n",
    "    print()\n",
    "\n",
    "#Sample input\n",
    "# 5\n",
    "\n",
    "# Sample output\n",
    "# 1 10 11 20 21 \n",
    "# 2 9 12 19 22 \n",
    "# 3 8 13 18 23 \n",
    "# 4 7 14 17 24 \n",
    "# 5 6 15 16 25 "
   ]
  },
  {
   "cell_type": "markdown",
   "metadata": {},
   "source": [
    "<h3>PRINT THE ODD TIME OCCURED VALUE - BITWISE OPERATOR</h3>"
   ]
  },
  {
   "cell_type": "code",
   "execution_count": 21,
   "metadata": {},
   "outputs": [
    {
     "name": "stdout",
     "output_type": "stream",
     "text": [
      "8\n"
     ]
    }
   ],
   "source": [
    "#logic - XOR of two same number is 0, 0 xor Number = That number itself\n",
    "n = int(input())\n",
    "l = list(map(int, input().split()))\n",
    "oddnum = 0\n",
    "for i in l:\n",
    "    oddnum = oddnum^i\n",
    "print(oddnum)\n",
    "\n",
    "#Sample input\n",
    "# 2 2 8 8 6 8 6\n",
    "\n",
    "# Sample output\n",
    "# 8\n"
   ]
  },
  {
   "cell_type": "markdown",
   "metadata": {},
   "source": [
    "<h3>COUNT THE NUMBER OF 1S IN BINARY FORM OF GIVEN INTEGER</h3>"
   ]
  },
  {
   "cell_type": "code",
   "execution_count": 25,
   "metadata": {},
   "outputs": [
    {
     "name": "stdout",
     "output_type": "stream",
     "text": [
      "2\n"
     ]
    }
   ],
   "source": [
    "\n",
    "n = int(input())\n",
    "s = \"{:b}\".format(n) #for converting int to binary as string\n",
    "print(s.count('1'))\n",
    "\n",
    "#Sample input\n",
    "# 10\n",
    "\n",
    "#Sample output\n",
    "# 2"
   ]
  },
  {
   "cell_type": "markdown",
   "metadata": {},
   "source": [
    "<h3>COUNT NUMBER OF SWAPS (1 TO 0 , 0 TO 1) NEEDED FOR A TO B</H3>"
   ]
  },
  {
   "cell_type": "code",
   "execution_count": 26,
   "metadata": {},
   "outputs": [
    {
     "name": "stdout",
     "output_type": "stream",
     "text": [
      "2\n"
     ]
    }
   ],
   "source": [
    "# logic: 1 xor 1 = 0, 0 xor 0 = 0, if two bits are different it will return 1\n",
    "A, B = map(int, input().split())\n",
    "s = \"{:b}\".format(A^B)\n",
    "print(s.count('1'))\n",
    "\n",
    "#Sample input\n",
    "# 5 9\n",
    "\n",
    "#Sample output\n",
    "# 2"
   ]
  },
  {
   "cell_type": "markdown",
   "metadata": {},
   "source": [
    "<h3>STRING PERMUTATION<h3>\n",
    "<h8>Backtracking<h8>"
   ]
  },
  {
   "cell_type": "code",
   "execution_count": 30,
   "metadata": {},
   "outputs": [
    {
     "name": "stdout",
     "output_type": "stream",
     "text": [
      "san\n",
      "sna\n",
      "asn\n",
      "ans\n",
      "nas\n",
      "nsa\n"
     ]
    }
   ],
   "source": [
    "def permutation(s, left, right):\n",
    "    if left == right:\n",
    "        print(\"\".join(s))\n",
    "        return\n",
    "    for index in range(left, right+1):\n",
    "        s[left], s[index] = s[index], s[left]\n",
    "        permutation(s, left+1, right)\n",
    "        s[left], s[index] = s[index], s[left]\n",
    "\n",
    "\n",
    "s = list(input())\n",
    "permutation(s, 0, len(s)-1)"
   ]
  },
  {
   "cell_type": "markdown",
   "metadata": {},
   "source": [
    "<h3>Find Nearest Value - Permutation</h3>\n",
    "<h8>Backtracking</h8>"
   ]
  },
  {
   "cell_type": "code",
   "execution_count": 46,
   "metadata": {},
   "outputs": [
    {
     "name": "stdout",
     "output_type": "stream",
     "text": [
      "248\n"
     ]
    }
   ],
   "source": [
    "def permutation(s, left, right):\n",
    "    global current\n",
    "    global nearest\n",
    "    if left == right:\n",
    "        num = int(\"\".join(s).strip())\n",
    "        if(abs(num-nearest)< abs(nearest-current)):\n",
    "            current = num\n",
    "        return\n",
    "    for index in range(left, right+1):\n",
    "        s[left], s[index] = s[index], s[left]\n",
    "        permutation(s, left+1, right)\n",
    "        s[left], s[index] = s[index], s[left]\n",
    "\n",
    "s = list(input())\n",
    "nearest = int(input())\n",
    "current = 0\n",
    "permutation(s, 0, len(s)-1)\n",
    "print(current)\n",
    "\n",
    "#sample input\n",
    "# 428\n",
    "\n",
    "#sample output\n",
    "# 248"
   ]
  },
  {
   "cell_type": "markdown",
   "metadata": {},
   "source": [
    "<h2>SIEVE OF ERATOSTHENES</h2>\n",
    "<h5>PRIME NUMBER UPTO N<h5>"
   ]
  },
  {
   "cell_type": "code",
   "execution_count": 3,
   "metadata": {},
   "outputs": [
    {
     "name": "stdout",
     "output_type": "stream",
     "text": [
      "2 3 5 7 "
     ]
    }
   ],
   "source": [
    "n = int(input())\n",
    "prime = [True for i in range(n+1)] #Initalize all number upto n is True\n",
    "\n",
    "val = 2 #intialize val as 2\n",
    "while val*val<=n: # continue the loop while square of vale is less than or equal to n\n",
    "    if prime[val]: # if val'th position is true\n",
    "        x = val**2 #find the square of val\n",
    "        while x <= n:  # continue the loop until x value is less than or equal to n\n",
    "            prime[x] = False # assign x'th value as false\n",
    "            x = x+val #increment x value by val\n",
    "    val += 1 #increment val by 1\n",
    "\n",
    "# for example if val=2, first iteration assigns false to squareof(2) and all squareof(x) + val until n\n",
    "# here x is initially val power 2 after that x is incremented by val\n",
    "\n",
    "for i in range(2, n+1):\n",
    "    if prime[i]:\n",
    "        print(i, end=\" \")\n",
    "\n",
    "\n",
    "# **************************************************************************************************\n",
    "                                    # Time Complexity: O(n*log(logn))\n",
    "# **************************************************************************************************\n",
    "\n",
    "#Sample input\n",
    "# 10\n",
    "\n",
    "#Sample output\n",
    "# 2 3 5 7"
   ]
  },
  {
   "cell_type": "markdown",
   "metadata": {},
   "source": [
    "<H3>Euclidian algorithm for GCD/HCF</H3>\n",
    "<h5>HCF (Highest Common Factor) OR GCD (Greatest Common Divisor) FOR MORE THAN 2 NUMBERS<H5>"
   ]
  },
  {
   "cell_type": "code",
   "execution_count": 6,
   "metadata": {},
   "outputs": [
    {
     "name": "stdout",
     "output_type": "stream",
     "text": [
      "5\n"
     ]
    }
   ],
   "source": [
    "def FindHCF(a, b):\n",
    "    return a if b==0 else FindHCF(b, a%b)\n",
    "\n",
    "n = int(input())\n",
    "ans = 0\n",
    "num = list(map(int, input().split()))\n",
    "for i in num:\n",
    "    ans = FindHCF(i, ans)\n",
    "print(ans)\n",
    "\n",
    "# logic\n",
    "\n",
    "# a b\n",
    "#  /\n",
    "# b a%b\n",
    "#   /\n",
    "# a%b b%(a%b)\n",
    "# ...\n",
    "# utill b==0\n",
    "\n",
    "\n",
    "# **************************************************************************************************\n",
    "                                    # Time Complexity (worst case): O(n)\n",
    "                                    # best case: logn\n",
    "# **************************************************************************************************\n",
    "\n",
    "#Sample input\n",
    "# 4\n",
    "# 10 15 40 50 20\n",
    "\n",
    "#Sample output\n",
    "# 5"
   ]
  },
  {
   "cell_type": "markdown",
   "metadata": {},
   "source": [
    "<h3>PATH EXISTS FROM SOURCE TO DESTINATION<h3>\n",
    "<h5>Depth First Search - Backtracking</h5>"
   ]
  },
  {
   "cell_type": "code",
   "execution_count": 7,
   "metadata": {},
   "outputs": [
    {
     "name": "stdout",
     "output_type": "stream",
     "text": [
      "yes\n"
     ]
    }
   ],
   "source": [
    "def traverse(arr, r, c):\n",
    "    global found, R, C, dest_x, dest_y #to acess variables inside the function\n",
    "    if(r>=0 and r<R and c >=0 and c<C): #checking whether row and col value is valid\n",
    "        if r==dest_x and c==dest_y: # checking node is destination\n",
    "            found = 1 # if yes assign found equal to 1 and return\n",
    "            return\n",
    "        if arr[r][c]==0 or arr[r][c]==2: # if cell is equal to 0 (no path) or 2 (Already visted)\n",
    "            return  #then return\n",
    "        arr[r][c]=2 # assing cell to 2, as visited\n",
    "        if found==0:\n",
    "            traverse(arr, r, c-1) # for traverse left cell\n",
    "        if found==0:\n",
    "            traverse(arr, r, c+1) # for traverse right cell\n",
    "        if found==0:\n",
    "            traverse(arr, r+1, c) # for traverse upper cell\n",
    "        if found==0:\n",
    "            traverse(arr, r-1, c) #for traverse lower cell\n",
    "\n",
    "R, C = map(int, input().strip().split()) #total number of row and col\n",
    "found = 0 # indicator that destination is reached or not\n",
    "arr = [] \n",
    "# getting input matrix\n",
    "for i in range(R):\n",
    "    l = list(map(int, input().split()))\n",
    "    arr.append(l)\n",
    "# source node\n",
    "source_x, source_y = map(int, input().split())\n",
    "#destination node\n",
    "dest_x, dest_y = map(int, input().split())\n",
    "\n",
    "# here, 0->no path 1->path exists 2->Already visted\n",
    "# if either source or destination has no path print no\n",
    "if(arr[source_x][source_y] == 0 or arr[dest_x][dest_y]==0):\n",
    "    print(\"no\");\n",
    "else: # otherwise \n",
    "    traverse(arr, source_x, source_y)\n",
    "    print(\"yes\" if found==1 else \"no\")\n",
    "\n",
    "#Sample input\n",
    "#Sample output"
   ]
  },
  {
   "cell_type": "markdown",
   "metadata": {},
   "source": [
    "<h3>ITERATION COUNT ALL ZERO</H3>\n",
    "<h5>Depth first search - Backtracking</h5>"
   ]
  },
  {
   "cell_type": "code",
   "execution_count": 10,
   "metadata": {},
   "outputs": [
    {
     "name": "stdout",
     "output_type": "stream",
     "text": [
      "2\n"
     ]
    }
   ],
   "source": [
    "import sys \n",
    "sys.setrecursionlimit(10**8) # for setting maximum recursion limit\n",
    "\n",
    "def traverse(arr, row, col):\n",
    "    global R, C\n",
    "    if(row<R and col<C and row>=0 and col>=0):\n",
    "        if arr[row][col] == 0:\n",
    "            return\n",
    "        arr[row][col] = 0 #change curent value to 0\n",
    "        traverse(arr, row, col+1)\n",
    "        traverse(arr, row, col-1)\n",
    "        traverse(arr, row+1, col)\n",
    "        traverse(arr, row-1, col)\n",
    "            \n",
    "            \n",
    "R, C = map(int, input().strip().split())\n",
    "iteration = 0\n",
    "arr = []\n",
    "for i in range(R):\n",
    "    l = list(map(int, input().split()))\n",
    "    arr.append(l)\n",
    "K = int(input())\n",
    "for i in range(R):\n",
    "    for j in range(C):\n",
    "        if(K==arr[i][j]):\n",
    "            iteration += 1\n",
    "            traverse(arr, i, j)\n",
    "print(iteration)\n",
    "\n",
    "#Sample input\n",
    "# 5 5\n",
    "# 5 6 0 5 6\n",
    "# 1 8 8 0 2\n",
    "# 5 5 5 0 6\n",
    "# 4 5 5 5 0\n",
    "# 8 8 8 8 8\n",
    "# 6\n",
    "\n",
    "#Sample output\n",
    "# 2"
   ]
  },
  {
   "cell_type": "markdown",
   "metadata": {},
   "source": [
    "<h3>VALID MIX OF STRING VALUES</h3>\n",
    "<h5>Backtracking</h5>"
   ]
  },
  {
   "cell_type": "code",
   "execution_count": 24,
   "metadata": {},
   "outputs": [
    {
     "name": "stdout",
     "output_type": "stream",
     "text": [
      "YES\n"
     ]
    }
   ],
   "source": [
    "#THREE strings are given, s1, s2 and mixed\n",
    "#System has to print yes , if s1 and s2 is linearly or orderly mixed , otherwise print no\n",
    "#For example, s1 = HELLO s2 = SAN mixed = \"HESALLNO\", here HE-SA-LL-N-O is is a substring with correct order of s1 and s2\n",
    "\n",
    "def isValid(s1, s2, mix, index_1, index_2, index_mix):\n",
    "    while(index_mix<len(mix)): #continue the loop untill index of mixed string is lessthan length of mix value\n",
    "        if index_1<len(s1) and index_2<len(s2) and s1[index_1]==mix[index_mix] and s2[index_2]==mix[index_mix]:\n",
    "            # checking the collision -> Two pointers of the string points same character\n",
    "            if(isValid(s1, s2, mix, index_1+1, index_2, index_mix+1)):       \n",
    "                # trying by using s1 character                                \n",
    "                return True                                          \n",
    "            else: # Backtrack if False\n",
    "                # otherwise using s2\n",
    "                return isValid(s1, s2, mix, index_1, index_2+1, index_mix+1)\n",
    "        \n",
    "        elif index_1<len(s1) and s1[index_1]==mix[index_mix]:\n",
    "            index_1+=1\n",
    "            index_mix+=1\n",
    "        elif index_2<len(s2) and s2[index_2]==mix[index_mix]:\n",
    "            index_2+=1\n",
    "            index_mix+=1\n",
    "        else:\n",
    "            return False\n",
    "    return True\n",
    "    \n",
    "\n",
    "s1 = input().strip()\n",
    "s2 = input().strip()\n",
    "mix = input().strip()\n",
    "\n",
    "index_1 = 0\n",
    "index_2 = 0\n",
    "index_mix = 0\n",
    "\n",
    "if len(s1)+len(s2) == len(mix):\n",
    "    if isValid(s1, s2, mix, index_1, index_2, index_mix):\n",
    "        print(\"YES\")\n",
    "    else:\n",
    "        print(\"NO\")\n",
    "else:\n",
    "    print(\"NO\")"
   ]
  },
  {
   "cell_type": "markdown",
   "metadata": {},
   "source": [
    "<h3>VALID MIX OF STRING VALUES - REVERSED STRING ORDER</h3>\n",
    "<h5>Backtracking</h5>"
   ]
  },
  {
   "cell_type": "code",
   "execution_count": 26,
   "metadata": {},
   "outputs": [
    {
     "name": "stdout",
     "output_type": "stream",
     "text": [
      "YES\n"
     ]
    }
   ],
   "source": [
    "def isValid(s1, s2, mix, index_1, index_2, index_mix):\n",
    "    while(index_mix<len(mix)): #continue the loop untill index of mixed string is lessthan length of mix value\n",
    "        if index_1<len(s1) and index_2<len(s2) and s1[index_1]==mix[index_mix] and s2[index_2]==mix[index_mix]:\n",
    "            # checking the collision -> Two pointers of the string points same character\n",
    "            if(isValid(s1, s2, mix, index_1+1, index_2, index_mix+1)):       \n",
    "                # trying by using s1 character                                \n",
    "                return True                                          \n",
    "            else: # Backtrack if False\n",
    "                # otherwise using s2\n",
    "                return isValid(s1, s2, mix, index_1, index_2+1, index_mix+1)\n",
    "        \n",
    "        elif index_1<len(s1) and s1[index_1]==mix[index_mix]:\n",
    "            index_1+=1\n",
    "            index_mix+=1\n",
    "        elif index_2<len(s2) and s2[index_2]==mix[index_mix]:\n",
    "            index_2+=1\n",
    "            index_mix+=1\n",
    "        else:\n",
    "            return False\n",
    "    return True\n",
    "    \n",
    "\n",
    "s1 = input().strip()[::-1]\n",
    "s2 = input().strip()[::-1]\n",
    "mix = input().strip()\n",
    "\n",
    "index_1 = 0\n",
    "index_2 = 0\n",
    "index_mix = 0\n",
    "\n",
    "if len(s1)+len(s2) == len(mix):\n",
    "    if isValid(s1, s2, mix, index_1, index_2, index_mix):\n",
    "        print(\"YES\")\n",
    "    else:\n",
    "        print(\"NO\")\n",
    "else:\n",
    "    print(\"NO\")"
   ]
  },
  {
   "cell_type": "markdown",
   "metadata": {},
   "source": [
    "<h3>ISLAND COUNT</h3>"
   ]
  },
  {
   "cell_type": "code",
   "execution_count": 2,
   "metadata": {},
   "outputs": [
    {
     "name": "stdout",
     "output_type": "stream",
     "text": [
      "3\n"
     ]
    }
   ],
   "source": [
    "#print the count of group of  1's\n",
    "\n",
    "import sys\n",
    "sys.setrecursionlimit(10**8)\n",
    "\n",
    "def FindIsland(arr, row, col):\n",
    "    global R, C\n",
    "    if row<R and col<C and row>=0 and col>=0:\n",
    "        if arr[row][col] == 0:\n",
    "            return\n",
    "        else:\n",
    "            arr[row][col] = 0\n",
    "            FindIsland(arr, row+1, col)\n",
    "            FindIsland(arr, row, col+1)\n",
    "            FindIsland(arr, row, col-1)\n",
    "            FindIsland(arr, row-1, col)\n",
    "            FindIsland(arr, row-1, col-1)\n",
    "            FindIsland(arr, row+1, col+1)\n",
    "            FindIsland(arr, row-1, col+1)\n",
    "            FindIsland(arr, row+1, col-1)\n",
    "        \n",
    "\n",
    "\n",
    "R, C = map(int, input().split())\n",
    "arr = []\n",
    "count = 0\n",
    "for i in range(R):\n",
    "    l = list(map(int, input().split()))\n",
    "    arr.append(l)\n",
    "for row in range(R):\n",
    "    for col in range(C):\n",
    "        if(arr[row][col]==1):\n",
    "            count += 1\n",
    "            FindIsland(arr, row, col)\n",
    "        else:\n",
    "            continue\n",
    "\n",
    "print(count)  \n",
    "\n",
    "# 5 6\n",
    "# 0 1 0 1 1 1\n",
    "# 1 0 0 1 1 1\n",
    "# 1 0 0 1 0 0\n",
    "# 0 0 0 1 0 1\n",
    "# 0 1 1 0 0 1"
   ]
  },
  {
   "cell_type": "markdown",
   "metadata": {},
   "source": [
    "<h3>WORD SEARCH</h3>"
   ]
  },
  {
   "cell_type": "code",
   "execution_count": 3,
   "metadata": {},
   "outputs": [
    {
     "ename": "ValueError",
     "evalue": "not enough values to unpack (expected 2, got 0)",
     "output_type": "error",
     "traceback": [
      "\u001b[0;31m---------------------------------------------------------------------------\u001b[0m",
      "\u001b[0;31mValueError\u001b[0m                                Traceback (most recent call last)",
      "\u001b[0;32m<ipython-input-3-9a991c8ca281>\u001b[0m in \u001b[0;36m<module>\u001b[0;34m\u001b[0m\n\u001b[1;32m     20\u001b[0m                 \u001b[0;32mreturn\u001b[0m\u001b[0;34m\u001b[0m\u001b[0;34m\u001b[0m\u001b[0m\n\u001b[1;32m     21\u001b[0m \u001b[0;34m\u001b[0m\u001b[0m\n\u001b[0;32m---> 22\u001b[0;31m \u001b[0mR\u001b[0m\u001b[0;34m,\u001b[0m \u001b[0mC\u001b[0m \u001b[0;34m=\u001b[0m \u001b[0mmap\u001b[0m\u001b[0;34m(\u001b[0m\u001b[0mint\u001b[0m\u001b[0;34m,\u001b[0m \u001b[0minput\u001b[0m\u001b[0;34m(\u001b[0m\u001b[0;34m)\u001b[0m\u001b[0;34m.\u001b[0m\u001b[0msplit\u001b[0m\u001b[0;34m(\u001b[0m\u001b[0;34m)\u001b[0m\u001b[0;34m)\u001b[0m\u001b[0;34m\u001b[0m\u001b[0;34m\u001b[0m\u001b[0m\n\u001b[0m\u001b[1;32m     23\u001b[0m \u001b[0marr\u001b[0m \u001b[0;34m=\u001b[0m \u001b[0;34m[\u001b[0m\u001b[0;34m]\u001b[0m\u001b[0;34m\u001b[0m\u001b[0;34m\u001b[0m\u001b[0m\n\u001b[1;32m     24\u001b[0m \u001b[0;32mfor\u001b[0m \u001b[0mi\u001b[0m \u001b[0;32min\u001b[0m \u001b[0mrange\u001b[0m\u001b[0;34m(\u001b[0m\u001b[0mR\u001b[0m\u001b[0;34m)\u001b[0m\u001b[0;34m:\u001b[0m\u001b[0;34m\u001b[0m\u001b[0;34m\u001b[0m\u001b[0m\n",
      "\u001b[0;31mValueError\u001b[0m: not enough values to unpack (expected 2, got 0)"
     ]
    }
   ],
   "source": [
    "# The program must accept a character matrix of size R*C and a string S as input.\n",
    "# The pugram must search the string S in the given R*C character matrix by traversing horizontally and veritcally.\n",
    "# if the string found in the matrix, the program must print, yes\n",
    "# else the program must print no as the output\n",
    "\n",
    "import sys\n",
    "sys.setrecursionlimit(10**8)\n",
    "\n",
    "def FindWord(arr, row, col, S, index):\n",
    "    global R, C, flag\n",
    "    if(row<R and col<C and row>=0 and col>=0):\n",
    "        if S[index] == None:\n",
    "            flag = 1\n",
    "            return\n",
    "        else:\n",
    "            if arr[row][col]==S[index]:\n",
    "                temp = arr[row][col]\n",
    "                arr[row][col]=\"-\"\n",
    "                FindWord(arr, row, col-1, S, index+1)\n",
    "                FindWord(arr, row, col+1, S, index+1)\n",
    "                FindWord(arr, row+1, col, S, index+1)\n",
    "                FindWord(arr, row-1, col, S, index+1)\n",
    "                matrix[row][col] = temp\n",
    "            else:\n",
    "                return\n",
    "\n",
    "R, C = map(int, input().split())\n",
    "arr = []\n",
    "for i in range(R):\n",
    "    l = list(input().split())\n",
    "    arr.append(l)\n",
    "S = input()\n",
    "flag = 0\n",
    "for i in range(R):\n",
    "    for j in range(C):\n",
    "        if arr[row][col]==S[0]:\n",
    "            FindWord(arr, i, j, S, 0)\n",
    "            if flag==1:\n",
    "                print(\"yes\")\n",
    "                break\n",
    "if flag==0:\n",
    "    print(\"no\")\n",
    "\n",
    "#Sample input\n",
    "\n",
    "# 5 8\n",
    "# k e r t u n o p\n",
    "# r a i n q b o w\n",
    "# v a n g u e c i\n",
    "# r a t t o n g h\n",
    "# h w y f n x o g\n",
    "#ringtone\n",
    "\n",
    "#Sample output\n",
    "\n",
    "#yes\n",
    "\n"
   ]
  },
  {
   "cell_type": "markdown",
   "metadata": {},
   "source": [
    "<h3>ARRAY LEFT ROTATION - REVERSE ALGORITHM</h3>"
   ]
  },
  {
   "cell_type": "code",
   "execution_count": 2,
   "metadata": {},
   "outputs": [
    {
     "name": "stdout",
     "output_type": "stream",
     "text": [
      "29 11 76 74 18 17 45 "
     ]
    }
   ],
   "source": [
    "def reverse(l, start, end):\n",
    "    while(start<end):\n",
    "        l[start], l[end] = l[end], l[start]\n",
    "        start += 1\n",
    "        end -= 1\n",
    "def rotateLeft(l, N, R):\n",
    "    R = R%N\n",
    "    reverse(l, 0, N-1)\n",
    "    reverse(l, 0, N-R-1)\n",
    "    reverse(l, N-R, N-1)\n",
    "\n",
    "N = int(input())\n",
    "l = list(map(int, input().split()))\n",
    "R = int(input())\n",
    "rotateLeft(l, N, R)\n",
    "print(*l, end=\" \")\n",
    "\n",
    "# 7\n",
    "# 76 74 18 17 45 29 11\n",
    "# 5\n",
    "\n",
    "# 29 11 76 74 18 17 45"
   ]
  },
  {
   "cell_type": "markdown",
   "metadata": {},
   "source": [
    "<h3>ARRAY RIGHT ROTATION - REVERSE ALGORITHM</h3>"
   ]
  },
  {
   "cell_type": "code",
   "execution_count": 4,
   "metadata": {},
   "outputs": [
    {
     "name": "stdout",
     "output_type": "stream",
     "text": [
      "7 8 9 10 1 2 3 4 5 6 "
     ]
    }
   ],
   "source": [
    "def reverse(l, start, end):\n",
    "    while(start<end):\n",
    "        l[start], l[end] = l[end], l[start]\n",
    "        start += 1\n",
    "        end -= 1\n",
    "def rotateLeft(l, N, R):\n",
    "    R = R%N\n",
    "    reverse(l, 0, N-1)\n",
    "    reverse(l, 0, R-1)\n",
    "    reverse(l, R, N-1)\n",
    "\n",
    "N = int(input())\n",
    "l = list(map(int, input().split()))\n",
    "R = int(input())\n",
    "rotateLeft(l, N, R)\n",
    "print(*l, end=\" \")\n",
    "\n",
    "# 10\n",
    "# 10 20 30 40 50 60 70 80 90 100\n",
    "# 3"
   ]
  },
  {
   "cell_type": "code",
   "execution_count": 12,
   "metadata": {},
   "outputs": [
    {
     "name": "stdout",
     "output_type": "stream",
     "text": [
      "2\n",
      "7\n",
      "6\n",
      "3\n",
      "5\n",
      "4\n",
      "1\n",
      "4\n"
     ]
    }
   ],
   "source": [
    "N = int(input())\n",
    "l = list(map(int,input().split()))\n",
    "l.insert(0,0)\n",
    "visit = [False for i in range(len(l))]\n",
    "swaps = 0\n",
    "for i in range(1, N+1):\n",
    "    if(visit[l[i]]):\n",
    "        continue\n",
    "    if l[i]==i:\n",
    "        visit[l[i]] = True\n",
    "        continue\n",
    "    edges = 0\n",
    "    cycle_index = i\n",
    "    while not visit[l[cycle_index]]:\n",
    "        visit[l[cycle_index]] = True\n",
    "        edges += 1\n",
    "        cycle_index = l[cycle_index]\n",
    "    swaps += edges - 1\n",
    "print(swaps)"
   ]
  },
  {
   "cell_type": "code",
   "execution_count": 24,
   "metadata": {},
   "outputs": [
    {
     "name": "stdout",
     "output_type": "stream",
     "text": [
      "3\n"
     ]
    }
   ],
   "source": [
    "N = int(input())\n",
    "l = list(map(int, input().split()))[::-1]\n",
    "l.insert(0,0)\n",
    "visit = [False for i in range(len(l))]\n",
    "swaps = 0\n",
    "for i in range(1, N+1):\n",
    "    if visit[l[i]]:\n",
    "        continue\n",
    "    if l[i]==i:\n",
    "        visit[l[i]] = True\n",
    "        continue\n",
    "    edges = 0\n",
    "    cycle_index = i\n",
    "    while not visit[l[cycle_index]]:\n",
    "        visit[l[cycle_index]] = True\n",
    "        edges += 1\n",
    "        cycle_index = l[cycle_index]\n",
    "    swaps += edges-1\n",
    "print(swaps)"
   ]
  },
  {
   "cell_type": "markdown",
   "metadata": {},
   "source": [
    "<h3>Minimum Operations - Greedy</h3>"
   ]
  },
  {
   "cell_type": "code",
   "execution_count": 4,
   "metadata": {},
   "outputs": [
    {
     "name": "stdout",
     "output_type": "stream",
     "text": [
      "2\n"
     ]
    }
   ],
   "source": [
    "#number of operations needed to convert a number 0 to n\n",
    "#possible operations +1, double the number\n",
    "\n",
    "\n",
    "\n",
    "#rather than start to end, we come end to start\n",
    "\n",
    "n = int(input())\n",
    "count = 0\n",
    "if n==1:\n",
    "    print(1)\n",
    "elif n==2:\n",
    "    print(2)\n",
    "else:\n",
    "    while(n>2):\n",
    "        if n%2==0:\n",
    "            count+=1\n",
    "            n /= 2\n",
    "        else:\n",
    "            count += 1\n",
    "            n -= 1\n",
    "    print(count+2)"
   ]
  },
  {
   "cell_type": "markdown",
   "metadata": {},
   "source": [
    "<h3>Minimum operations - X to Y</h3>"
   ]
  },
  {
   "cell_type": "code",
   "execution_count": 10,
   "metadata": {},
   "outputs": [
    {
     "name": "stdout",
     "output_type": "stream",
     "text": [
      "2\n"
     ]
    }
   ],
   "source": [
    "#permitable operation to Change X to Y is -1, double the n\n",
    "\n",
    "\n",
    "\n",
    "#rather we come X to Y we come Y to X\n",
    "\n",
    "X , Y = map(int, input().split())\n",
    "count = 0\n",
    "if X==Y:\n",
    "    print(0)\n",
    "elif X>Y:\n",
    "    print(X-Y)\n",
    "else:\n",
    "    while(Y>X):\n",
    "        if Y%2==0: # if even divide by 2\n",
    "            Y /= 2\n",
    "            count += 1\n",
    "        else:\n",
    "            Y += 1\n",
    "            count += 1\n",
    "    print(count+int(X-Y))"
   ]
  },
  {
   "cell_type": "markdown",
   "metadata": {},
   "source": [
    "<h3>SUDOKU VALIDITY</h3>\n",
    "<h5>Bitwise - Bitmasking concept</h5>"
   ]
  },
  {
   "cell_type": "code",
   "execution_count": null,
   "metadata": {},
   "outputs": [],
   "source": [
    "row = col = box = [1 for i in range(9)]\n",
    "\n",
    "matrix = []\n",
    "for i in range(9):\n",
    "    l = list(map(int, input().split()))\n",
    "    matrix.append(l)\n",
    "for i in range(9):\n",
    "    for j in range(9):\n",
    "        n = matrix[i][j]\n",
    "        row[i] |= (1<<n)\n",
    "        col[i] |= (1<<n)\n",
    "        box[(i//3)*3 + j//3] |= (1<<n)\n",
    "        \n",
    "val = (1<<10)-1\n",
    "flag = 0\n",
    "for i in range(9):\n",
    "    if row[i] != val or col[i]!= val or box[i] != val:\n",
    "        print(\"INVALID\")\n",
    "        flag = 1\n",
    "        break\n",
    "print(row, col, box, sep=\"   \")\n",
    "if flag==0:\n",
    "    print(\"VALID\")\n"
   ]
  },
  {
   "cell_type": "markdown",
   "metadata": {},
   "source": [
    "5 1 3 6 8 7 2 4 9\n",
    "8 4 9 5 2 1 6 3 7\n",
    "2 6 7 3 4 9 5 8 2\n",
    "1 5 8 4 6 3 9 7 1\n",
    "9 7 4 2 1 8 3 6 5\n",
    "3 2 6 7 9 5 4 1 8\n",
    "7 8 2 9 3 4 1 5 6\n",
    "6 3 5 1 7 2 8 9 4\n",
    "4 9 1 8 5 6 7 2 3"
   ]
  },
  {
   "cell_type": "markdown",
   "metadata": {},
   "source": [
    "<h3>SODOKU SOLVER<h3>\n",
    "<h5>Backtracking</h3>"
   ]
  },
  {
   "cell_type": "code",
   "execution_count": null,
   "metadata": {},
   "outputs": [],
   "source": [
    "R, C = map(input)"
   ]
  },
  {
   "cell_type": "markdown",
   "metadata": {},
   "source": [
    "<h3>Maximum Sum - K*K Sub-Matrix</h3>\n",
    "<h5>"
   ]
  },
  {
   "cell_type": "code",
   "execution_count": 11,
   "metadata": {},
   "outputs": [
    {
     "name": "stdout",
     "output_type": "stream",
     "text": [
      "567\n"
     ]
    }
   ],
   "source": [
    "R, C = map(int, input().split())\n",
    "rowSum = [[0 for j in range(C+1)] for i in range(R)]\n",
    "for i in range(R):\n",
    "    l = list(map(int, input().split()))\n",
    "    for j in range(1,C+1):\n",
    "        rowSum[i][j] = l[j-1] + rowSum[i][j-1]\n",
    "K = int(input())\n",
    "maxSum = 0\n",
    "for i in range(R-K+1):\n",
    "    for j in range(1,C-K+2):\n",
    "        sum = 0\n",
    "        for srow in range(i, i+K):\n",
    "            sum += rowSum[srow][j+K-1] - rowSum[srow][j-1]\n",
    "        if sum>maxSum:\n",
    "            maxSum = sum\n",
    "print(maxSum)"
   ]
  },
  {
   "cell_type": "markdown",
   "metadata": {},
   "source": [
    "0 6 0 3 0 0 8 0 4\n",
    "5 3 7 0 9 0 0 0 0\n",
    "0 4 0 0 0 6 3 0 7\n",
    "0 9 0 0 5 1 2 3 8\n",
    "0 0 0 0 0 0 0 0 0\n",
    "7 1 3 6 2 0 0 4 0\n",
    "3 0 6 4 0 0 0 1 0\n",
    "0 0 0 0 6 0 5 2 3\n",
    "1 0 2 0 0 3 0 8 0"
   ]
  },
  {
   "cell_type": "markdown",
   "metadata": {},
   "source": [
    "<h3>Longest Substring Length - K Unique Characters</h3>"
   ]
  },
  {
   "cell_type": "code",
   "execution_count": 40,
   "metadata": {},
   "outputs": [
    {
     "name": "stdout",
     "output_type": "stream",
     "text": [
      "4\n"
     ]
    }
   ],
   "source": [
    "S, K = input().split()\n",
    "K = int(K)\n",
    "start = 0\n",
    "end = 0\n",
    "unique = 1\n",
    "max = 0\n",
    "length = len(S)\n",
    "arr = [0 for i in range(128)]\n",
    "arr[ord(S[end])] = 1\n",
    "while end<length:\n",
    "    if K==unique:\n",
    "        current = end - start + 1\n",
    "        if current > max:\n",
    "            max = current\n",
    "    if unique<=K:\n",
    "        end += 1\n",
    "        if end==len(S):\n",
    "            break;\n",
    "        arr[ord(S[end])] += 1\n",
    "        if arr[ord(S[end])]==1:\n",
    "            unique += 1\n",
    "    else:\n",
    "        arr[ord(S[start])]-=1\n",
    "        if arr[ord(S[start])]==0:\n",
    "            unique-=1\n",
    "        start += 1\n",
    "print(max)"
   ]
  },
  {
   "cell_type": "markdown",
   "metadata": {},
   "source": []
  },
  {
   "cell_type": "code",
   "execution_count": 46,
   "metadata": {},
   "outputs": [
    {
     "name": "stdout",
     "output_type": "stream",
     "text": [
      "kill\n"
     ]
    }
   ],
   "source": [
    "S, K = input().split()\n",
    "K = int(K)\n",
    "start = 0\n",
    "end = 0\n",
    "unique = 1\n",
    "max = 0\n",
    "length = len(S)\n",
    "arr = [0 for i in range(128)]\n",
    "arr[ord(S[end])] = 1\n",
    "maxStart = maxEnd = 0\n",
    "while end<length:\n",
    "    if K==unique:\n",
    "        current = end - start + 1\n",
    "        if current > max:\n",
    "            max = current\n",
    "            maxStart = start\n",
    "            maxEnd = end\n",
    "    if unique<=K:\n",
    "        end += 1\n",
    "        if end==len(S):\n",
    "            break;\n",
    "        arr[ord(S[end])] += 1\n",
    "        if arr[ord(S[end])]==1:\n",
    "            unique += 1\n",
    "    else:\n",
    "        arr[ord(S[start])]-=1\n",
    "        if arr[ord(S[start])]==0:\n",
    "            unique-=1\n",
    "        start += 1\n",
    "print(S[maxStart:maxEnd+1])"
   ]
  },
  {
   "cell_type": "code",
   "execution_count": 39,
   "metadata": {},
   "outputs": [
    {
     "name": "stdout",
     "output_type": "stream",
     "text": [
      "Ski\n"
     ]
    }
   ],
   "source": [
    "S, K = input().split()\n",
    "K = int(K)\n",
    "start = end = max = 0\n",
    "unique = 1\n",
    "length = len(S)\n",
    "arr = [0 for i in range(128)]\n",
    "arr[ord(S[end])] = 1\n",
    "maxStart = maxEnd = 0\n",
    "while end<length:\n",
    "    if K==unique:\n",
    "        current = end - start + 1\n",
    "        if current > max:\n",
    "            max = current\n",
    "            maxStart = start\n",
    "            maxEnd = end\n",
    "    if unique<=K:\n",
    "        end += 1\n",
    "        if end==len(S):\n",
    "            break\n",
    "        arr[ord(S[end])] += 1\n",
    "        if arr[ord(S[end])]==1:\n",
    "            unique += 1\n",
    "    else:\n",
    "        arr[ord(S[start])] -= 1\n",
    "        if arr[ord(S[end])]==0:\n",
    "            unique -= 1\n",
    "        start += 1\n",
    "print(S[maxStart:maxEnd+1])"
   ]
  },
  {
   "cell_type": "code",
   "execution_count": 44,
   "metadata": {},
   "outputs": [
    {
     "name": "stdout",
     "output_type": "stream",
     "text": [
      "2\n",
      "mi\n"
     ]
    }
   ],
   "source": [
    "S, K = input().split()\n",
    "K = int(K)\n",
    "start = 0\n",
    "end = 0\n",
    "max = 0\n",
    "unique = 1\n",
    "length = len(S)\n",
    "arr = [0 for i in range(128)]\n",
    "arr[ord(S[end])] = 1\n",
    "maxStart = 0\n",
    "maxEnd = 0\n",
    "while end<length:\n",
    "    if K==unique:\n",
    "        current = end - start + 1\n",
    "        if current>max:\n",
    "            max = current\n",
    "            maxStart = start\n",
    "            maxEnd = end\n",
    "    if unique<=K:\n",
    "        end += 1\n",
    "        if end==len(S):\n",
    "            break\n",
    "        arr[ord(S[end])] += 1\n",
    "        if arr[ord(S[end])]==1:\n",
    "            unique += 1\n",
    "    else:\n",
    "        arr[ord(S[start])] -= 1\n",
    "        if arr[ord(S[end])]==0:\n",
    "            unique -= 1\n",
    "        start += 1\n",
    "print(max)\n",
    "print(S[maxStart:maxEnd+1])\n",
    "            "
   ]
  },
  {
   "cell_type": "code",
   "execution_count": 11,
   "metadata": {},
   "outputs": [
    {
     "name": "stdout",
     "output_type": "stream",
     "text": [
      "8\n"
     ]
    }
   ],
   "source": [
    "n = int(input())\n",
    "l = list(map(int, input().split()))\n",
    "l.sort()\n",
    "val  = 1\n",
    "for i in range(n):\n",
    "    if l[i] <= val:\n",
    "        val += l[i]\n",
    "    else:\n",
    "        break\n",
    "print(val)"
   ]
  },
  {
   "cell_type": "code",
   "execution_count": 13,
   "metadata": {},
   "outputs": [
    {
     "name": "stdout",
     "output_type": "stream",
     "text": [
      "0\n"
     ]
    }
   ],
   "source": [
    "s = input()\n",
    "ways = 1\n",
    "prevWays = 1\n",
    "if s[-1] == \"0\":\n",
    "    ways = 0\n",
    "for i in range(len(s)-2, -1, -1):\n",
    "    backup = prevWays\n",
    "    prevWays = ways\n",
    "    if s[i] == \"0\":\n",
    "        ways = 0\n",
    "        continue\n",
    "    \n",
    "    twoDigitVal = int(s[i:i+2])\n",
    "    \n",
    "    if twoDigitVal<=26:\n",
    "        ways = ways + backup\n",
    "    \n",
    "print(ways)\n",
    "        "
   ]
  },
  {
   "cell_type": "markdown",
   "metadata": {},
   "source": [
    "<h3>Matrix Zig Zag</h3>"
   ]
  },
  {
   "cell_type": "code",
   "execution_count": 1,
   "metadata": {},
   "outputs": [
    {
     "name": "stdout",
     "output_type": "stream",
     "text": [
      "1 9 4 9 5 3 9 2 3 6 4 4 7 8 3 5 3 2 5 1 8 "
     ]
    }
   ],
   "source": [
    "\n",
    "R, C = map(int, input().split())\n",
    "matrix = []\n",
    "for i in range(R):\n",
    "    l = list(map(int, input().split()))\n",
    "    matrix.append(l)\n",
    "row = 0\n",
    "col = 0\n",
    "dir = 1\n",
    "for iter in range(1, R+C):\n",
    "    if dir==1:\n",
    "        while row>=0 and col<C:\n",
    "            print(matrix[row][col], end=\" \")\n",
    "            row -= 1\n",
    "            col += 1\n",
    "        dir = -1\n",
    "        if row<0 and col<C:\n",
    "            row = 0\n",
    "        if col>=C:\n",
    "            col = C-1\n",
    "            row += 2\n",
    "    else:\n",
    "        while row<R and col>=0:\n",
    "            print(matrix[row][col], end=\" \")\n",
    "            row += 1\n",
    "            col -= 1\n",
    "        dir = 1\n",
    "        if col<0 and row<R:\n",
    "            col = 0\n",
    "        if row>=R:\n",
    "            row = R-1\n",
    "            col += 2\n",
    "\n",
    "#Sample input\n",
    "\n",
    "# 3 7\n",
    "# 1 9 3 9 4 7 2\n",
    "# 4 5 2 4 8 3 5\n",
    "# 9 3 6 3 5 1 8\n",
    "\n",
    "#Sample output\n",
    "# 1 9 4 9 5 3 9 2 3 6 4 4 7 8 3 5 3 2 5 1 8\n"
   ]
  },
  {
   "cell_type": "markdown",
   "metadata": {},
   "source": [
    "<h3>Matrix Zig Zag - From bottom right</h3>"
   ]
  },
  {
   "cell_type": "code",
   "execution_count": null,
   "metadata": {},
   "outputs": [],
   "source": [
    "R, C = map(int, input().split())\n",
    "matrix = []\n",
    "for i in range(R):\n",
    "    l = list(map(int, input().split()))\n",
    "    matrix.append(l)\n",
    "row = R-1\n",
    "col = C-1\n",
    "dir = 1\n",
    "for iter in range(1, R+C):\n",
    "    if dir==1:\n",
    "        while row>=0 and col<C:\n",
    "            print(matrix[row][col], end=\" \")\n",
    "            row -= 1\n",
    "            col += 1\n",
    "        dir = -1\n",
    "        if row<0:\n",
    "            row = 0\n",
    "            col -= 2\n",
    "            \n",
    "        if col>=C and row>=0:\n",
    "            col = C-1\n",
    "            \n",
    "    else:\n",
    "        while row<R and col>=0:\n",
    "            print(matrix[row][col], end=\" \")\n",
    "            row += 1\n",
    "            col -= 1\n",
    "        dir = 1\n",
    "        if col<0:\n",
    "            col = 0\n",
    "            row -= 2\n",
    "            \n",
    "        if row>=R:\n",
    "            row = R-1\n",
    "\n",
    "            \n",
    "# Sample input\n",
    "\n",
    "# 3 7\n",
    "# 1 9 3 9 4 7 2\n",
    "# 4 5 2 4 8 3 5\n",
    "# 9 3 6 3 5 1 8\n",
    "\n",
    "#Sample output\n",
    "\n",
    "# 8 5 1 5 3 2 7 8 3 6 4 4 9 2 3 9 5 3 9 4 1 "
   ]
  },
  {
   "cell_type": "code",
   "execution_count": null,
   "metadata": {},
   "outputs": [],
   "source": []
  }
 ],
 "metadata": {
  "interpreter": {
   "hash": "31f2aee4e71d21fbe5cf8b01ff0e069b9275f58929596ceb00d14d90e3e16cd6"
  },
  "kernelspec": {
   "display_name": "Python 3.8.10 64-bit",
   "language": "python",
   "name": "python3"
  },
  "language_info": {
   "codemirror_mode": {
    "name": "ipython",
    "version": 3
   },
   "file_extension": ".py",
   "mimetype": "text/x-python",
   "name": "python",
   "nbconvert_exporter": "python",
   "pygments_lexer": "ipython3",
   "version": "3.8.10"
  },
  "orig_nbformat": 4
 },
 "nbformat": 4,
 "nbformat_minor": 2
}
