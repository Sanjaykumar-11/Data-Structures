{
 "cells": [
  {
   "cell_type": "markdown",
   "metadata": {},
   "source": [
    "<h1>ROBOT - STAIR CLIMBING<h1>\n",
    "<h5>Dynamic programming</h5>"
   ]
  },
  {
   "cell_type": "code",
   "execution_count": 3,
   "metadata": {},
   "outputs": [
    {
     "name": "stdout",
     "output_type": "stream",
     "text": [
      "[1, 0, 1, 1, 1, 2]\n",
      "2\n"
     ]
    }
   ],
   "source": [
    "#N->Stairs to be climbed\n",
    "#S->Number of leaps\n",
    "\n",
    "N, S = map(int, input().split(' '))\n",
    "leaps = list(map(int, input().split(' ')))\n",
    "ways = []\n",
    "for i in range(N+1):\n",
    "    ways.append(0)\n",
    "ways[0] = 1\n",
    "for i in range(1, N+1):\n",
    "    for j in range(0, len(leaps)):\n",
    "        if(i>=leaps[j]):\n",
    "            ways[i] += ways[i-leaps[j]];\n",
    "print(ways)\n",
    "print(ways[N])\n",
    "\n",
    "# sample input\n",
    "# 5 2\n",
    "# 2 3\n",
    "\n",
    "# sample output\n",
    "# 2"
   ]
  },
  {
   "cell_type": "markdown",
   "metadata": {},
   "source": [
    "<h1>ROBOT - STAIR CLIMBING WITH DAMAGED STAIR<h1>\n",
    "<h5>Dynamic programming</h5>"
   ]
  },
  {
   "cell_type": "code",
   "execution_count": 4,
   "metadata": {},
   "outputs": [
    {
     "name": "stdout",
     "output_type": "stream",
     "text": [
      "1\n"
     ]
    }
   ],
   "source": [
    "N, S, damage_count = map(int, input().split(' '))\n",
    "leaps = list(map(int, input().split(' ')))\n",
    "T = list(map(int, input().split(' '))) #Damaged stairs\n",
    "ways = []\n",
    "for i in range(N+1):\n",
    "    ways.append(0)\n",
    "ways[0] = 1\n",
    "for i in range(1, N+1):\n",
    "    if(i in T):\n",
    "        ways[i] = 0 #ignoring damaged stairs\n",
    "        continue\n",
    "    for j in range(len(leaps)):\n",
    "            ways[i] += ways[i-leaps[j]]\n",
    "print(ways[N])\n",
    "\n",
    "#sample input\n",
    "# 5 2 1\n",
    "# 2 3\n",
    "# 2\n",
    "\n",
    "#sample output\n",
    "# 1"
   ]
  },
  {
   "cell_type": "markdown",
   "metadata": {},
   "source": [
    "<h1>ROBOT - STAIR CLIMBING WITH SLIPERY STAIR<h1>\n",
    "<h5>Dynamic programming</h5>"
   ]
  },
  {
   "cell_type": "code",
   "execution_count": 6,
   "metadata": {},
   "outputs": [
    {
     "name": "stdout",
     "output_type": "stream",
     "text": [
      "2\n"
     ]
    }
   ],
   "source": [
    "N, S, slipery_count = map(int, input().split(' '))\n",
    "leaps = list(map(int, input().split(' ')))\n",
    "T = list(map(int, input().split(' '))) #slipery steps\n",
    "ways = []\n",
    "for i in range(N+1):\n",
    "    ways.append(0)\n",
    "ways[0] = 1 # possible way for ground is always 1\n",
    "for i in range(1, N+1):\n",
    "    for j in range(len(leaps)):\n",
    "        ways[i] += ways[i-leaps[j]] #increment anyway, also slipery steps\n",
    "    if(i in T):# if i is in slipery steps\n",
    "        last_non_slippery = i-1; # jumping to previous step\n",
    "        while(last_non_slippery in T and last_non_slippery>0): \n",
    "            #checking whether the previous step also slipery or not if yes decrement by 1\n",
    "            last_non_slippery -= 1\n",
    "        if last_non_slippery>0:\n",
    "            ways[last_non_slippery] += ways[i] \n",
    "        ways[i]=0\n",
    "\n",
    "print(ways[N])\n",
    "\n",
    "#sample input\n",
    "# 5 2 1\n",
    "# 2 3\n",
    "# 2\n",
    "\n",
    "#sample output\n",
    "# 2"
   ]
  },
  {
   "cell_type": "markdown",
   "metadata": {},
   "source": [
    "<h1>ROBOT - STAIR CLIMBING WITH SLIPERY STAIR<h1>\n",
    "<h5>Dynamic programming</h5>"
   ]
  },
  {
   "cell_type": "code",
   "execution_count": null,
   "metadata": {},
   "outputs": [],
   "source": []
  },
  {
   "cell_type": "code",
   "execution_count": null,
   "metadata": {},
   "outputs": [],
   "source": []
  }
 ],
 "metadata": {
  "interpreter": {
   "hash": "31f2aee4e71d21fbe5cf8b01ff0e069b9275f58929596ceb00d14d90e3e16cd6"
  },
  "kernelspec": {
   "display_name": "Python 3.8.10 64-bit",
   "language": "python",
   "name": "python3"
  },
  "language_info": {
   "codemirror_mode": {
    "name": "ipython",
    "version": 3
   },
   "file_extension": ".py",
   "mimetype": "text/x-python",
   "name": "python",
   "nbconvert_exporter": "python",
   "pygments_lexer": "ipython3",
   "version": "3.8.10"
  },
  "orig_nbformat": 4
 },
 "nbformat": 4,
 "nbformat_minor": 2
}
