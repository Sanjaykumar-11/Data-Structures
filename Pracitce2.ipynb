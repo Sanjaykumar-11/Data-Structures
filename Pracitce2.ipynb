{
 "cells": [
  {
   "cell_type": "markdown",
   "metadata": {},
   "source": [
    "<h5>SELLING WINE BOTTLE - 08-01-2022\"</h5>"
   ]
  },
  {
   "cell_type": "code",
   "execution_count": 5,
   "metadata": {},
   "outputs": [
    {
     "name": "stdout",
     "output_type": "stream",
     "text": [
      "79\n"
     ]
    },
    {
     "data": {
      "text/plain": [
       "'\\nSAMPLE INPUT\\n\\n5\\n3 5 7 3 6\\n\\nSAMPLE OUTPUT\\n79\\n'"
      ]
     },
     "execution_count": 5,
     "metadata": {},
     "output_type": "execute_result"
    }
   ],
   "source": [
    "\"\"\"\n",
    "\n",
    "APPROCH - DYNAMIC PROGRAMMING\n",
    "\n",
    "\"\"\"\n",
    "\n",
    "import sys\n",
    "sys.setrecursionlimit(10**8)\n",
    "\n",
    "\n",
    "def maximum_revenue(wine_prices, maximum, left, right, year):\n",
    "    if maximum[left][right] != 0:\n",
    "        return maximum[left][right]\n",
    "    \n",
    "    if left==right:\n",
    "        return wine_prices[left]*year\n",
    "    \n",
    "    left_revenue = wine_prices[left]*year + maximum_revenue(wine_prices, maximum, left+1, right, year+1)\n",
    "    \n",
    "    right_revenue = wine_prices[right]*year + maximum_revenue(wine_prices, maximum, left, right-1, year+1)\n",
    "    \n",
    "    maximum[left][right] = max(left_revenue, right_revenue)\n",
    "    \n",
    "    return maximum[left][right]\n",
    "\n",
    "n = int(input())\n",
    "\n",
    "wine_prices = list(map(int, input().split()))\n",
    "\n",
    "maximum = [[0 for i in range(n)] for j in range(n)]\n",
    "\n",
    "print(maximum_revenue(wine_prices, maximum, 0, n-1, 1))\n",
    "\n",
    "\"\"\"\n",
    "SAMPLE INPUT\n",
    "\n",
    "5\n",
    "3 5 7 3 6\n",
    "\n",
    "SAMPLE OUTPUT\n",
    "79\n",
    "\n",
    "\"\"\"\n"
   ]
  },
  {
   "cell_type": "markdown",
   "metadata": {},
   "source": [
    "<h5>Social media leader - Graph theory</h5>"
   ]
  },
  {
   "cell_type": "code",
   "execution_count": null,
   "metadata": {},
   "outputs": [],
   "source": [
    "N, R = map(int, input().split())\n",
    "\n",
    "people = [0 for i in range(N+1)]\n",
    "\n",
    "for i in range(R):\n",
    "    p, follow = map(int, input().split())\n",
    "    people[p] -= 1\n",
    "    people[follow] += 1\n",
    "\n",
    "flag = 0\n",
    "for i in range(1, N+1):\n",
    "    if people[i]==N-1:\n",
    "        flag = 1\n",
    "        print(i)\n",
    "        break\n",
    "    else:\n",
    "        continue\n",
    "\n",
    "if flag==0:\n",
    "    print(-1)"
   ]
  },
  {
   "cell_type": "markdown",
   "metadata": {},
   "source": [
    "<h3>Vendor Maximum Profit - 0/1 Knapsack problem</h3>\n",
    "<h5>Dynamic Programming<h5>"
   ]
  },
  {
   "cell_type": "code",
   "execution_count": null,
   "metadata": {},
   "outputs": [],
   "source": [
    "\n",
    "N, K = map(int, input().split())\n",
    "\n",
    "ordered_dict = []\n",
    "\n",
    "for i in range(K):\n",
    "    temp = list(map(int, input().split()))\n",
    "    ordered_dict.append(temp)\n",
    "    \n",
    "ordered_dict = sorted(ordered_dict)\n",
    "\n",
    "table = [[0 for i in range(N+1)] for j in range(K+1)]\n",
    "\n",
    "cost = [l[0] for l in ordered_dict]\n",
    "profit = [l[1] for l in ordered_dict]\n",
    "cost.insert(0,0)\n",
    "profit.insert(0,0)\n",
    "flag = 0\n",
    "for item in range(1, K+1):\n",
    "    if cost[item]>N:\n",
    "        print(table[item-1][N])\n",
    "        flag = 1\n",
    "        break\n",
    "    \n",
    "    for amount in range(1, N+1):\n",
    "        if amount<cost[item]:\n",
    "            table[item][amount] = table[item-1][amount]\n",
    "        else:\n",
    "            incProfit = profit[item] + table[item-1][amount-cost[item]]\n",
    "            excProfit = table[item-1][amount]\n",
    "            table[item][amount] = max(incProfit, excProfit)\n",
    "\n",
    "if flag==0:\n",
    "    print(table[K][N])\n",
    "\n",
    "\"\"\"\n",
    "SAMPLE INPUT\n",
    "10 6\n",
    "5 2\n",
    "6 4\n",
    "3 2\n",
    "4 3\n",
    "1 2\n",
    "15 20\n",
    "\n",
    "SAMPLE OUTPUT\n",
    "8\n",
    "\"\"\""
   ]
  },
  {
   "cell_type": "markdown",
   "metadata": {},
   "source": [
    "<h3>Largest Square Matrix with 1s - Dynamic Programming</h3>"
   ]
  },
  {
   "cell_type": "code",
   "execution_count": null,
   "metadata": {},
   "outputs": [],
   "source": [
    "R, C = map(int, input().split())\n",
    "\n",
    "matrix = []\n",
    "\n",
    "for i in range(R):\n",
    "    l = list(map(int, input().split()))\n",
    "    matrix.append(l)\n",
    "\n",
    "maxval = 0\n",
    "\n",
    "for i in range(1, R):\n",
    "    for j in range(1,C):\n",
    "        if matrix[i][j] != 0:\n",
    "            matrix[i][j] = matrix[i][j] + min(matrix[i-1][j], matrix[i-1][j-1], matrix[i][j-1])\n",
    "            if matrix[i][j]>maxval:\n",
    "                maxval = matrix[i][j]\n",
    "        else:\n",
    "            continue\n",
    "print(maxval)\n",
    "\n",
    "# Sample input:\n",
    "# 7 6\n",
    "# 1 1 0 1 1 1\n",
    "# 1 1 0 1 1 1\n",
    "# 0 0 0 1 1 1\n",
    "# 0 0 0 0 0 0\n",
    "# 0 0 0 0 0 0\n",
    "# 1 1 0 0 1 1\n",
    "# 1 1 0 0 1 1\n",
    "\n",
    "# Sample output:\n",
    "# 3\n"
   ]
  },
  {
   "cell_type": "markdown",
   "metadata": {},
   "source": [
    "<h3> WORD BREAK <h3>\n",
    "<h5>Back tracking<h5>"
   ]
  },
  {
   "cell_type": "code",
   "execution_count": null,
   "metadata": {},
   "outputs": [],
   "source": [
    "import sys\n",
    "sys.setrecursionlimit(10**8)\n",
    "\n",
    "def  breakWord(words, s, output, start):\n",
    "    if start == len(s):\n",
    "        print(output.strip())\n",
    "        return\n",
    "    for i in range(start, len(s)):\n",
    "        word = s[start:i+1]\n",
    "        if word in words:\n",
    "            breakWord(words, s, output+word+\" \", i+1)\n",
    "\n",
    "words = list(input().split())\n",
    "\n",
    "s = input()\n",
    "\n",
    "breakWord(words, s,\"\", 0)\n",
    "\n",
    "# Sample input\n",
    "\n",
    "# hot box hotbox\n",
    "# hotboxhotbox\n",
    "\n",
    "# Sample Output\n",
    "\n",
    "# hot box hot box\n",
    "# hot box hotbox\n",
    "# hotbox hot box\n",
    "# hotbox hotbox"
   ]
  },
  {
   "cell_type": "markdown",
   "metadata": {},
   "source": [
    "<h3>Toll gate Collection - Dynamic Programming</h3>"
   ]
  },
  {
   "cell_type": "code",
   "execution_count": 1,
   "metadata": {},
   "outputs": [
    {
     "name": "stdout",
     "output_type": "stream",
     "text": [
      "100\n"
     ]
    }
   ],
   "source": [
    "def ComputeMax(N, D, K, toll_distance, toll_fares):\n",
    "    revenue = [0 for i in range(N+1)]\n",
    "    revenue[0] = 0\n",
    "    index = 0\n",
    "    for i in range(1, N+1):\n",
    "        if toll_distance[index]==i:\n",
    "            if i<=D:\n",
    "                revenue[i] = max(revenue[i-1], toll_fares[index])\n",
    "            else:\n",
    "                revenue[i] = max(revenue[i-1], toll_fares[index]+revenue[i-D-1])\n",
    "            index += 1\n",
    "            if index==K:\n",
    "                return revenue[i]\n",
    "        else:\n",
    "            revenue[i] = revenue[i-1]\n",
    "\n",
    "N, D = map(int, input().split())\n",
    "K = int(input())\n",
    "toll_distance = list(map(int, input().split()))\n",
    "toll_fares = list(map(int, input().split()))\n",
    "print(ComputeMax(N, D, K, toll_distance, toll_fares))\n",
    "\n",
    "\n",
    "# Sample input\n",
    "\n",
    "# 200 50 \n",
    "# 5 \n",
    "# 60 70 120 130 140 \n",
    "# 50 70 50 30 20\n",
    "\n",
    "\n",
    "# Sample output\n",
    "# 100"
   ]
  },
  {
   "cell_type": "markdown",
   "metadata": {},
   "source": [
    "<h3>Wildcard Matching - Dynamic Programming</h3>"
   ]
  },
  {
   "cell_type": "code",
   "execution_count": 2,
   "metadata": {},
   "outputs": [
    {
     "name": "stdout",
     "output_type": "stream",
     "text": [
      "Matching\n"
     ]
    }
   ],
   "source": [
    "text = input().strip()\n",
    "wildcard = input().strip()\n",
    "\n",
    "matrix = [[0 for i in range(len(wildcard)+1)] for j in range(len(text)+1)]\n",
    "\n",
    "matrix[0][0] = 1\n",
    "\n",
    "if wildcard[0] == \"*\":\n",
    "    matrix[0][1] = 1\n",
    "\n",
    "\n",
    "\n",
    "for i in range(1,len(text)+1):\n",
    "    \n",
    "    for j in range(1,len(wildcard)+1):\n",
    "        \n",
    "        if wildcard[j-1]==\"?\" or wildcard[j-1]==text[i-1]:\n",
    "            matrix[i][j] = matrix[i-1][j-1]\n",
    "            \n",
    "        elif wildcard[j-1]==\"*\":\n",
    "            if matrix[i-1][j]==1 or matrix[i][j-1]==1:\n",
    "                matrix[i][j] = 1\n",
    "                \n",
    "            \n",
    "if matrix[-1][-1]==1:\n",
    "    print(\"Matching\")\n",
    "else:\n",
    "    print(\"Not matching\")\n",
    "\n",
    "\n",
    "# Sample input\n",
    "# abbbbbbbbccbhd \n",
    "# a*b??b?d\n",
    "\n",
    "# Sample output\n",
    "# Matching"
   ]
  },
  {
   "cell_type": "markdown",
   "metadata": {},
   "source": [
    "<h3> Pet Store dogs - Dynamic Programming </h3>"
   ]
  },
  {
   "cell_type": "code",
   "execution_count": 9,
   "metadata": {},
   "outputs": [
    {
     "name": "stdout",
     "output_type": "stream",
     "text": [
      "9496\n"
     ]
    }
   ],
   "source": [
    "N = int(input())\n",
    "\n",
    "ways = [0 for i in range(N+1)]\n",
    "\n",
    "for i in range(1, N+1):\n",
    "    if i>2:\n",
    "        ways[i] = (i-1)*ways[i-2] + ways[i-1]\n",
    "    else:\n",
    "        ways[i] = i\n",
    "        \n",
    "print(ways[N])\n",
    "\n",
    "#sample input\n",
    "# 10\n",
    "\n",
    "#sample output\n",
    "# 9496"
   ]
  },
  {
   "cell_type": "markdown",
   "metadata": {},
   "source": [
    "<h3>Minimum edit distance two strings - Dynamic programming</h3>"
   ]
  },
  {
   "cell_type": "code",
   "execution_count": 11,
   "metadata": {},
   "outputs": [
    {
     "name": "stdout",
     "output_type": "stream",
     "text": [
      "3\n"
     ]
    }
   ],
   "source": [
    "s1 = input().strip()\n",
    "s2 = input().strip()\n",
    "\n",
    "matrix = [[0 for i in range(len(s2)+1)] for j in range(len(s1)+1)]\n",
    "\n",
    "for i in range(len(s1)+1):\n",
    "    for j in range(len(s2)+1):\n",
    "        if i==0:\n",
    "            matrix[i][j] = j\n",
    "        elif j==0:\n",
    "            matrix[i][j] = i\n",
    "        else:\n",
    "            if s1[i-1]==s2[j-1]:\n",
    "                matrix[i][j] = matrix[i-1][j-1]\n",
    "            else:\n",
    "                matrix[i][j] = 1 + min(matrix[i-1][j], matrix[i-1][j-1], matrix[i][j-1])\n",
    "                \n",
    "print(matrix[-1][-1])\n",
    "\n",
    "#Sample input\n",
    "# hello\n",
    "# hail\n",
    "\n",
    "#Sample output\n",
    "# 3"
   ]
  },
  {
   "cell_type": "code",
   "execution_count": 12,
   "metadata": {},
   "outputs": [
    {
     "name": "stdout",
     "output_type": "stream",
     "text": [
      "3\n"
     ]
    }
   ],
   "source": [
    "s1=input().strip()\n",
    "s2=input().strip()\n",
    "length1,length2=len(s1),len(s2)\n",
    "mat=[[0 for i in range(length1+1)]for j in range(length2+1)]\n",
    "for row in range(length2+1):\n",
    "    for col in range(length1+1):\n",
    "        if row==0:\n",
    "            mat[row][col]=col\n",
    "        if col==0:\n",
    "            mat[row][col]=row\n",
    "        else:\n",
    "            if s2[row-1]==s1[col-1]:\n",
    "                mat[row][col]=mat[row-1][col-1]\n",
    "            else:\n",
    "                mat[row][col]=min(mat[row-1][col],mat[row][col-1],mat[row-1][col-1])+1 \n",
    "print(mat[-1][-1])"
   ]
  },
  {
   "cell_type": "markdown",
   "metadata": {},
   "source": [
    "<h3> Single Source Shortest Path - Graph Theory</h3>"
   ]
  },
  {
   "cell_type": "code",
   "execution_count": null,
   "metadata": {},
   "outputs": [],
   "source": [
    " \n",
    "import sys\n",
    "N, L = map(int, input().split())\n",
    "edges = []\n",
    "for i in range(L):\n",
    "    l = list(map(int,input().split()))\n",
    "    edges.append(l)\n",
    "distance = {}\n",
    "distance[1] = 0\n",
    "for i in range(2, N+1):\n",
    "    distance[i] = sys.maxsize\n",
    "print(edges)\n",
    "for k in range(N-1):\n",
    "    dist = distance.values()\n",
    "    for i in edges:\n",
    "        distance[i[1]] = min(distance[i[0]]+i[2], distance[i[1]])\n",
    "    new = distance.values()\n",
    "    if dist == new:\n",
    "        break\n",
    "keys = distance.keys()-[1]\n",
    "for i in keys:\n",
    "    print(distance[i], end=\" \")\n"
   ]
  },
  {
   "cell_type": "markdown",
   "metadata": {},
   "source": [
    "<h3>PHOTOGRAPH HEIGHT - GRAPH THEORY</h3>"
   ]
  },
  {
   "cell_type": "code",
   "execution_count": 1,
   "metadata": {},
   "outputs": [
    {
     "ename": "ValueError",
     "evalue": "invalid literal for int() with base 10: ''",
     "output_type": "error",
     "traceback": [
      "\u001b[0;31m---------------------------------------------------------------------------\u001b[0m",
      "\u001b[0;31mValueError\u001b[0m                                Traceback (most recent call last)",
      "\u001b[0;32m<ipython-input-1-803cb3c2a9c5>\u001b[0m in \u001b[0;36m<module>\u001b[0;34m\u001b[0m\n\u001b[1;32m      1\u001b[0m \u001b[0;32mfrom\u001b[0m \u001b[0mcollections\u001b[0m \u001b[0;32mimport\u001b[0m \u001b[0mdeque\u001b[0m\u001b[0;34m\u001b[0m\u001b[0;34m\u001b[0m\u001b[0m\n\u001b[1;32m      2\u001b[0m \u001b[0;34m\u001b[0m\u001b[0m\n\u001b[0;32m----> 3\u001b[0;31m \u001b[0mN\u001b[0m\u001b[0;34m,\u001b[0m \u001b[0mK\u001b[0m \u001b[0;34m=\u001b[0m \u001b[0mmap\u001b[0m\u001b[0;34m(\u001b[0m\u001b[0mint\u001b[0m\u001b[0;34m,\u001b[0m \u001b[0minput\u001b[0m\u001b[0;34m(\u001b[0m\u001b[0;34m)\u001b[0m\u001b[0;34m.\u001b[0m\u001b[0mstrip\u001b[0m\u001b[0;34m(\u001b[0m\u001b[0;34m)\u001b[0m\u001b[0;34m.\u001b[0m\u001b[0msplit\u001b[0m\u001b[0;34m(\u001b[0m\u001b[0;34m','\u001b[0m\u001b[0;34m)\u001b[0m\u001b[0;34m)\u001b[0m\u001b[0;34m\u001b[0m\u001b[0;34m\u001b[0m\u001b[0m\n\u001b[0m\u001b[1;32m      4\u001b[0m \u001b[0;34m\u001b[0m\u001b[0m\n\u001b[1;32m      5\u001b[0m \u001b[0malphabets\u001b[0m \u001b[0;34m=\u001b[0m \u001b[0;34m\"ABCDEFGHIJKLMNOPQRSTUVWXYZ\"\u001b[0m\u001b[0;34m\u001b[0m\u001b[0;34m\u001b[0m\u001b[0m\n",
      "\u001b[0;31mValueError\u001b[0m: invalid literal for int() with base 10: ''"
     ]
    }
   ],
   "source": [
    "from collections import deque\n",
    "    \n",
    "N, K = map(int, input().strip().split(','))\n",
    "\n",
    "alphabets = \"ABCDEFGHIJKLMNOPQRSTUVWXYZ\"\n",
    "\n",
    "students = [alphabets[i] for i in range(N)]\n",
    "    \n",
    "photographs = []\n",
    "for i in range(K):\n",
    "    l = input().strip().split(',')\n",
    "    photographs.append(l)\n",
    "\n",
    "missing = False\n",
    "\n",
    "for name in students:\n",
    "    rel_count = 0\n",
    "    queue = deque()\n",
    "    visited = []\n",
    "    queue.append(name)\n",
    "    visited.append(name)\n",
    "    while len(queue) != 0:\n",
    "        student = queue.popleft()\n",
    "        for seq in photographs:\n",
    "            if student in seq:\n",
    "                successor = seq[seq.index(student):]\n",
    "                for succstd in successor:\n",
    "                    if not succstd in visited:\n",
    "                        queue.append(succstd)\n",
    "                        visited.append(succstd)\n",
    "                        rel_count += 1\n",
    "    queue.append(name)\n",
    "    \n",
    "    while len(queue) != 0:\n",
    "        student = queue.popleft()\n",
    "        for seq in photographs:\n",
    "            if student in seq:\n",
    "                predecessor = seq[0:seq.index(student)+1]\n",
    "                for prestd in predecessor:\n",
    "                    if not prestd in visited:\n",
    "                        queue.append(prestd)\n",
    "                        visited.append(prestd)\n",
    "                        rel_count += 1\n",
    "    \n",
    "    if rel_count!=N-1:\n",
    "        missing = True\n",
    "        print(name, end=\" \")\n",
    "\n",
    "if not missing:\n",
    "    print(\"N/A\")\n",
    "\n",
    "\"\"\"\n",
    "SAMPLE INPUT\n",
    "8,3 \n",
    "D,C,E,F,G,H\n",
    "C,A,E\n",
    "D,C,B,E\n",
    "\n",
    "SAMPLE OUTPUT\n",
    "A B\n",
    "\n",
    "SAMPLE INPUT\n",
    "8,3 \n",
    "D,C,E,F,G,H\n",
    "C,A,E\n",
    "D,C,B,E\n",
    "\n",
    "SAMPLE OUTPUT\n",
    "N/A\n",
    "\"\"\""
   ]
  },
  {
   "cell_type": "markdown",
   "metadata": {},
   "source": [
    "<h3>Minimum jumps required to reach end - Dynamic programming</h3>"
   ]
  },
  {
   "cell_type": "code",
   "execution_count": 2,
   "metadata": {},
   "outputs": [
    {
     "name": "stdout",
     "output_type": "stream",
     "text": [
      "2\n"
     ]
    }
   ],
   "source": [
    "N = int(input())\n",
    "l = list(map(int, input().split()))\n",
    "jumps = 1\n",
    "max_reach_index = l[0]\n",
    "steps = l[0]\n",
    "for index in range(1, N):\n",
    "    if index==N-1:\n",
    "        break\n",
    "    if index + l[index] > max_reach_index:\n",
    "        max_reach_index = index + l[index]\n",
    "    steps -= 1\n",
    "    if steps==0:\n",
    "        jumps += 1\n",
    "        steps = max_reach_index - index\n",
    "if N==1:\n",
    "    print(0)\n",
    "else:\n",
    "    print(jumps)\n",
    "\"\"\"\n",
    "SAMPLE INPUT\n",
    "5\n",
    "2 3 1 1 4\n",
    "\n",
    "SAMPLE OUTPUT\n",
    "2\n",
    "\"\"\"\n"
   ]
  },
  {
   "cell_type": "code",
   "execution_count": 14,
   "metadata": {},
   "outputs": [
    {
     "name": "stdout",
     "output_type": "stream",
     "text": [
      "6\n",
      "4\n",
      "3\n"
     ]
    }
   ],
   "source": [
    "X = int(input())\n",
    "Y = int(input())\n",
    "Z = int(input())\n",
    "flag = 0\n",
    "if X < Z and Y < Z:\n",
    "    flag = 1\n",
    "    print(-1)\n",
    "if flag==0:\n",
    "    if X==Z or Y==Z:\n",
    "        print(1)\n",
    "    else:\n",
    "        minimum = min(X, Y)\n",
    "        maximum = max(X, Y)\n",
    "        count = 1\n",
    "        while(maximum != Z):\n",
    "            maximum -= minimum\n",
    "            print(maximum)\n",
    "            count += 1\n",
    "        print(count)"
   ]
  },
  {
   "cell_type": "markdown",
   "metadata": {},
   "source": [
    "<h3>Browsing Center Computer</h3>"
   ]
  },
  {
   "cell_type": "code",
   "execution_count": null,
   "metadata": {},
   "outputs": [],
   "source": [
    "\n",
    "N = int(input())\n",
    "start = []\n",
    "end = []\n",
    "for i in range(N):\n",
    "    l = input().split()\n",
    "    start.append(int(\"\".join(l[0].split(':'))))\n",
    "    end.append(int(\"\".join(l[1].split(':'))))\n",
    "\n",
    "computers = 0\n",
    "\n",
    "start.sort()\n",
    "end.sort()\n",
    "\n",
    "start_index = 0\n",
    "end_index = 0\n",
    "\n",
    "while start_index < len(start) and end_index < len(end):\n",
    "    temp = abs(start_index - end_index) + 1\n",
    "    if temp>computers:\n",
    "        computers = temp\n",
    "        \n",
    "    if start[start_index] < end[end_index]:\n",
    "        start_index += 1\n",
    "    else:\n",
    "        end_index += 1\n",
    "        \n",
    "    while end_index < len(end) and start_index < len(start) and end[end_index] <= start[start_index]:\n",
    "        end_index += 1\n",
    "\n",
    "print(computers)\n",
    "\n",
    "\"\"\"\n",
    "SAMPLE INPUT\n",
    "6 \n",
    "9:00 11:00 \n",
    "9:30 10:30 \n",
    "9:30 12:00 \n",
    "9:45 13:00 \n",
    "11:00 15:00 \n",
    "10:00 14:00\n",
    "\n",
    "SAMPLE OUTPUT\n",
    "5\n",
    "\"\"\""
   ]
  }
 ],
 "metadata": {
  "interpreter": {
   "hash": "e7370f93d1d0cde622a1f8e1c04877d8463912d04d973331ad4851f04de6915a"
  },
  "kernelspec": {
   "display_name": "Python 3.8.10 64-bit",
   "language": "python",
   "name": "python3"
  },
  "language_info": {
   "codemirror_mode": {
    "name": "ipython",
    "version": 3
   },
   "file_extension": ".py",
   "mimetype": "text/x-python",
   "name": "python",
   "nbconvert_exporter": "python",
   "pygments_lexer": "ipython3",
   "version": "3.8.10"
  },
  "orig_nbformat": 4
 },
 "nbformat": 4,
 "nbformat_minor": 2
}
